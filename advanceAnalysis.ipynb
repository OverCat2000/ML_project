{
 "cells": [
  {
   "cell_type": "code",
   "execution_count": 1,
   "id": "cca86c85-e6cf-464d-8939-1e11a64cdcc4",
   "metadata": {},
   "outputs": [],
   "source": [
    "import pandas as pd\n",
    "import numpy as np\n",
    "import matplotlib.pyplot as plt\n",
    "import seaborn as sns\n",
    "from sklearn.pipeline import Pipeline\n",
    "from sklearn.preprocessing import StandardScaler, OneHotEncoder, OrdinalEncoder\n",
    "from sklearn.compose import ColumnTransformer\n",
    "from sklearn.utils import resample\n",
    "from sklearn.base import BaseEstimator, TransformerMixin\n",
    "from sklearn.model_selection import train_test_split\n",
    "import warnings\n",
    "warnings.filterwarnings('ignore')"
   ]
  },
  {
   "cell_type": "code",
   "execution_count": 2,
   "id": "916daa96-d9dc-4039-83c1-91f828d664cf",
   "metadata": {},
   "outputs": [],
   "source": [
    "data = pd.read_csv(\"Medicalpremium.csv\")"
   ]
  },
  {
   "cell_type": "code",
   "execution_count": 3,
   "id": "f7611b3b-8251-447e-9035-903ab3bf496f",
   "metadata": {},
   "outputs": [],
   "source": [
    "df = data.copy()"
   ]
  },
  {
   "cell_type": "markdown",
   "id": "b4b5f7da-269f-4ff8-bb73-069ead921df6",
   "metadata": {
    "jp-MarkdownHeadingCollapsed": true
   },
   "source": [
    "# Custom transformers"
   ]
  },
  {
   "cell_type": "code",
   "execution_count": 4,
   "id": "c21ed320-d0df-48eb-8f79-d64c9e862746",
   "metadata": {},
   "outputs": [],
   "source": [
    "class upsample(BaseEstimator, TransformerMixin):\n",
    "    def __init__(self, category=\"NumberOfMajorSurgeries\", cls=3, nSamples=100):\n",
    "        self.category = category\n",
    "        self.nSamples = nSamples\n",
    "        self.cls = cls\n",
    "\n",
    "    def fit(self, X, y=None):\n",
    "        return self\n",
    "\n",
    "    def transform(self, X, y=None):\n",
    "        sample = resample(X[X[self.category] == self.cls], n_samples=self.nSamples, replace=True)\n",
    "        X = pd.concat([X[X[self.category] != self.cls], sample])\n",
    "        X.reset_index(drop=True, inplace=True)\n",
    "        return X"
   ]
  },
  {
   "cell_type": "code",
   "execution_count": 5,
   "id": "03b2c213-6415-4aaf-b8ab-e09dcb50da9e",
   "metadata": {},
   "outputs": [],
   "source": [
    "class BMI(BaseEstimator, TransformerMixin):\n",
    "    def __init__(self, bmi=True, bmiCat=True, dropbmi=False):\n",
    "        self.bmi = bmi\n",
    "        self.bmiCat = bmiCat\n",
    "        self.dropbmi = dropbmi\n",
    "\n",
    "    def fit(self, X, y=None):\n",
    "        return self\n",
    "\n",
    "    def transform(self, X, y=None):\n",
    "        if self.bmi:\n",
    "            X[\"BMI\"] = X[\"Weight\"]/(X[\"Height\"]/100)**2\n",
    "            X = X.drop([\"Weight\", \"Height\"], axis=1)\n",
    "            \n",
    "            if self.bmiCat:\n",
    "                bins = [0, 18.5, 24.9, 29.9, 34.9, 100]\n",
    "                labels = ['Underweight', 'Normal', 'Overweight', 'Obese', 'Extreme']\n",
    "                X[\"BMI_cat\"] = pd.cut(X[\"BMI\"], bins=bins, labels=labels, right=False)\n",
    "                if self.dropbmi:\n",
    "                    X = X.drop(\"BMI\", axis=1)\n",
    "                    return X\n",
    "                else:\n",
    "                    #X = X.drop([\"Weight\", \"Height\"], axis=1)\n",
    "                    return X\n",
    "            else:\n",
    "                #X = X.drop([\"Weight\", \"Height\"], axis=1)\n",
    "                return X\n",
    "        else:\n",
    "            return X"
   ]
  },
  {
   "cell_type": "code",
   "execution_count": 6,
   "id": "9e4d3fd0-d196-4c35-9871-189431423ee0",
   "metadata": {},
   "outputs": [],
   "source": [
    "class oneHot(BaseEstimator, TransformerMixin):\n",
    "    def __init__(self, columns=None):\n",
    "        self.columns = columns\n",
    "        self.encoder = OneHotEncoder(sparse=False, drop='first')\n",
    "\n",
    "    def fit(self, X, y=None):\n",
    "        self.encoder.fit(X[self.columns])\n",
    "        return self\n",
    "\n",
    "    def transform(self, X, y=None):\n",
    "        onehot_encoded = self.encoder.transform(X[self.columns])\n",
    "        feature_names = self.encoder.get_feature_names_out()\n",
    "        result_df = pd.DataFrame(onehot_encoded, columns=feature_names, index=X.index)\n",
    "        return pd.concat([X.drop(columns=self.columns), result_df], axis=1)"
   ]
  },
  {
   "cell_type": "code",
   "execution_count": 7,
   "id": "cfb0fbaa-d7d6-49b2-86c9-4cfec7209d11",
   "metadata": {},
   "outputs": [],
   "source": [
    "class StdScaler(BaseEstimator, TransformerMixin):\n",
    "    def __init__(self, columns=None):\n",
    "        self.columns = columns\n",
    "        self.scaler = StandardScaler()\n",
    "\n",
    "    def fit(self, X, y=None):\n",
    "        num_cols = [i for i in X.columns if len(np.unique(X[i])) > 5]\n",
    "        self.columns = num_cols\n",
    "        self.scaler.fit(X[self.columns])\n",
    "        return self\n",
    "\n",
    "    def transform(self, X, y=None):\n",
    "        scaled_data = self.scaler.transform(X[self.columns])\n",
    "        result_df = pd.DataFrame(scaled_data, columns=self.columns, index=X.index)\n",
    "        return pd.concat([X.drop(columns=self.columns), result_df], axis=1)"
   ]
  },
  {
   "cell_type": "markdown",
   "id": "8979567d-2521-46e3-a453-eb6a49aa5d50",
   "metadata": {},
   "source": [
    "# preprocessing"
   ]
  },
  {
   "cell_type": "code",
   "execution_count": 8,
   "id": "3544c389-7479-4f36-bcad-b81afecd432a",
   "metadata": {},
   "outputs": [],
   "source": [
    "dt = upsample(category= \"NumberOfMajorSurgeries\", cls=3, nSamples=100).transform(df.copy())"
   ]
  },
  {
   "cell_type": "code",
   "execution_count": 9,
   "id": "b3559512-6898-4d66-9d35-f10f0de0ec17",
   "metadata": {},
   "outputs": [],
   "source": [
    "X = dt.drop(\"PremiumPrice\", axis=1)\n",
    "y = dt.PremiumPrice.copy()"
   ]
  },
  {
   "cell_type": "code",
   "execution_count": 10,
   "id": "831eae28-f529-45ad-89cb-c17e8f20f5ba",
   "metadata": {},
   "outputs": [
    {
     "data": {
      "text/plain": [
       "(1070, 10)"
      ]
     },
     "execution_count": 10,
     "metadata": {},
     "output_type": "execute_result"
    }
   ],
   "source": [
    "X.shape"
   ]
  },
  {
   "cell_type": "code",
   "execution_count": 11,
   "id": "ce7c22a8-02e3-4dfd-afa8-fa3fcb2d38b7",
   "metadata": {},
   "outputs": [],
   "source": [
    "x_train, x_test, y_train, y_test = train_test_split(X, y, test_size=0.2, random_state=42)"
   ]
  },
  {
   "cell_type": "code",
   "execution_count": 12,
   "id": "62409ad3-f91c-4406-bae2-30ddfec8647a",
   "metadata": {},
   "outputs": [],
   "source": [
    "pipe = Pipeline([\n",
    "    ('bmi', BMI(bmiCat=False)),\n",
    "    #('oneHot', oneHot(columns=[\"BMI_cat\"])),\n",
    "    ('scaler', StdScaler())\n",
    "])"
   ]
  },
  {
   "cell_type": "code",
   "execution_count": 13,
   "id": "83ba1c46-3265-4925-ac38-0a60b0784d39",
   "metadata": {},
   "outputs": [],
   "source": [
    "X_train = pipe.fit_transform(x_train.copy())\n",
    "X_test = pipe.fit_transform(x_test.copy())"
   ]
  },
  {
   "cell_type": "markdown",
   "id": "1fe2431f-13f6-4ac5-9904-20c422564513",
   "metadata": {},
   "source": [
    "# Random Forest"
   ]
  },
  {
   "cell_type": "code",
   "execution_count": 14,
   "id": "08fe5e37-07ef-464d-b3d2-efffbc72d3ca",
   "metadata": {},
   "outputs": [],
   "source": [
    "from sklearn.ensemble import RandomForestRegressor\n",
    "from sklearn.metrics import mean_squared_error\n",
    "from sklearn.model_selection import cross_val_score"
   ]
  },
  {
   "cell_type": "code",
   "execution_count": 15,
   "id": "7353353e-c335-4eba-ad89-e95b4c7de258",
   "metadata": {},
   "outputs": [],
   "source": [
    "forest_reg = RandomForestRegressor(random_state=42)"
   ]
  },
  {
   "cell_type": "code",
   "execution_count": 16,
   "id": "9ed205fd-f3d1-4b35-8513-603f1889a1dc",
   "metadata": {},
   "outputs": [
    {
     "data": {
      "text/html": [
       "<style>#sk-container-id-1 {color: black;}#sk-container-id-1 pre{padding: 0;}#sk-container-id-1 div.sk-toggleable {background-color: white;}#sk-container-id-1 label.sk-toggleable__label {cursor: pointer;display: block;width: 100%;margin-bottom: 0;padding: 0.3em;box-sizing: border-box;text-align: center;}#sk-container-id-1 label.sk-toggleable__label-arrow:before {content: \"▸\";float: left;margin-right: 0.25em;color: #696969;}#sk-container-id-1 label.sk-toggleable__label-arrow:hover:before {color: black;}#sk-container-id-1 div.sk-estimator:hover label.sk-toggleable__label-arrow:before {color: black;}#sk-container-id-1 div.sk-toggleable__content {max-height: 0;max-width: 0;overflow: hidden;text-align: left;background-color: #f0f8ff;}#sk-container-id-1 div.sk-toggleable__content pre {margin: 0.2em;color: black;border-radius: 0.25em;background-color: #f0f8ff;}#sk-container-id-1 input.sk-toggleable__control:checked~div.sk-toggleable__content {max-height: 200px;max-width: 100%;overflow: auto;}#sk-container-id-1 input.sk-toggleable__control:checked~label.sk-toggleable__label-arrow:before {content: \"▾\";}#sk-container-id-1 div.sk-estimator input.sk-toggleable__control:checked~label.sk-toggleable__label {background-color: #d4ebff;}#sk-container-id-1 div.sk-label input.sk-toggleable__control:checked~label.sk-toggleable__label {background-color: #d4ebff;}#sk-container-id-1 input.sk-hidden--visually {border: 0;clip: rect(1px 1px 1px 1px);clip: rect(1px, 1px, 1px, 1px);height: 1px;margin: -1px;overflow: hidden;padding: 0;position: absolute;width: 1px;}#sk-container-id-1 div.sk-estimator {font-family: monospace;background-color: #f0f8ff;border: 1px dotted black;border-radius: 0.25em;box-sizing: border-box;margin-bottom: 0.5em;}#sk-container-id-1 div.sk-estimator:hover {background-color: #d4ebff;}#sk-container-id-1 div.sk-parallel-item::after {content: \"\";width: 100%;border-bottom: 1px solid gray;flex-grow: 1;}#sk-container-id-1 div.sk-label:hover label.sk-toggleable__label {background-color: #d4ebff;}#sk-container-id-1 div.sk-serial::before {content: \"\";position: absolute;border-left: 1px solid gray;box-sizing: border-box;top: 0;bottom: 0;left: 50%;z-index: 0;}#sk-container-id-1 div.sk-serial {display: flex;flex-direction: column;align-items: center;background-color: white;padding-right: 0.2em;padding-left: 0.2em;position: relative;}#sk-container-id-1 div.sk-item {position: relative;z-index: 1;}#sk-container-id-1 div.sk-parallel {display: flex;align-items: stretch;justify-content: center;background-color: white;position: relative;}#sk-container-id-1 div.sk-item::before, #sk-container-id-1 div.sk-parallel-item::before {content: \"\";position: absolute;border-left: 1px solid gray;box-sizing: border-box;top: 0;bottom: 0;left: 50%;z-index: -1;}#sk-container-id-1 div.sk-parallel-item {display: flex;flex-direction: column;z-index: 1;position: relative;background-color: white;}#sk-container-id-1 div.sk-parallel-item:first-child::after {align-self: flex-end;width: 50%;}#sk-container-id-1 div.sk-parallel-item:last-child::after {align-self: flex-start;width: 50%;}#sk-container-id-1 div.sk-parallel-item:only-child::after {width: 0;}#sk-container-id-1 div.sk-dashed-wrapped {border: 1px dashed gray;margin: 0 0.4em 0.5em 0.4em;box-sizing: border-box;padding-bottom: 0.4em;background-color: white;}#sk-container-id-1 div.sk-label label {font-family: monospace;font-weight: bold;display: inline-block;line-height: 1.2em;}#sk-container-id-1 div.sk-label-container {text-align: center;}#sk-container-id-1 div.sk-container {/* jupyter's `normalize.less` sets `[hidden] { display: none; }` but bootstrap.min.css set `[hidden] { display: none !important; }` so we also need the `!important` here to be able to override the default hidden behavior on the sphinx rendered scikit-learn.org. See: https://github.com/scikit-learn/scikit-learn/issues/21755 */display: inline-block !important;position: relative;}#sk-container-id-1 div.sk-text-repr-fallback {display: none;}</style><div id=\"sk-container-id-1\" class=\"sk-top-container\"><div class=\"sk-text-repr-fallback\"><pre>RandomForestRegressor(random_state=42)</pre><b>In a Jupyter environment, please rerun this cell to show the HTML representation or trust the notebook. <br />On GitHub, the HTML representation is unable to render, please try loading this page with nbviewer.org.</b></div><div class=\"sk-container\" hidden><div class=\"sk-item\"><div class=\"sk-estimator sk-toggleable\"><input class=\"sk-toggleable__control sk-hidden--visually\" id=\"sk-estimator-id-1\" type=\"checkbox\" checked><label for=\"sk-estimator-id-1\" class=\"sk-toggleable__label sk-toggleable__label-arrow\">RandomForestRegressor</label><div class=\"sk-toggleable__content\"><pre>RandomForestRegressor(random_state=42)</pre></div></div></div></div></div>"
      ],
      "text/plain": [
       "RandomForestRegressor(random_state=42)"
      ]
     },
     "execution_count": 16,
     "metadata": {},
     "output_type": "execute_result"
    }
   ],
   "source": [
    "forest_reg.fit(X_train, y_train)"
   ]
  },
  {
   "cell_type": "code",
   "execution_count": 17,
   "id": "4d8da746-fc54-4556-aafe-a3c02f090112",
   "metadata": {},
   "outputs": [],
   "source": [
    "pred = forest_reg.predict(X_test)"
   ]
  },
  {
   "cell_type": "code",
   "execution_count": 18,
   "id": "9f5094de-7156-462f-b174-e1b002c7a268",
   "metadata": {},
   "outputs": [
    {
     "data": {
      "text/plain": [
       "3805.3829925023538"
      ]
     },
     "execution_count": 18,
     "metadata": {},
     "output_type": "execute_result"
    }
   ],
   "source": [
    "np.sqrt(mean_squared_error(y_test, pred))"
   ]
  },
  {
   "cell_type": "code",
   "execution_count": 19,
   "id": "c5e6ec94-2b1b-414f-b303-13a570213e50",
   "metadata": {},
   "outputs": [
    {
     "name": "stdout",
     "output_type": "stream",
     "text": [
      "[0.00658656 0.0063904  0.08997843 0.03800793 0.00420279 0.02429021\n",
      " 0.03622052 0.66875377 0.12556939]\n"
     ]
    },
    {
     "data": {
      "image/png": "[encoded data removed]",
      "text/plain": [
       "<Figure size 640x480 with 1 Axes>"
      ]
     },
     "metadata": {},
     "output_type": "display_data"
    }
   ],
   "source": [
    "feature_imp1 = forest_reg.feature_importances_\n",
    "print(feature_imp1)\n",
    "\n",
    "sns.barplot(x=feature_imp1, y=X_train.columns)\n",
    "plt.xlabel('Feature Importance Score')\n",
    "plt.ylabel('Features')\n",
    "plt.title(\"Visualizing Important Features\")\n",
    "plt.show()"
   ]
  },
  {
   "cell_type": "code",
   "execution_count": 20,
   "id": "67b9ae94-b2c7-4308-9167-6ef98cfa078f",
   "metadata": {},
   "outputs": [
    {
     "data": {
      "image/png": "[encoded data removed]",
      "text/plain": [
       "<Figure size 640x480 with 1 Axes>"
      ]
     },
     "metadata": {},
     "output_type": "display_data"
    }
   ],
   "source": [
    "temp = pd.DataFrame({'Observed':y_test, 'predicted':pred})\n",
    "temp.sort_values('Observed', inplace=True)\n",
    "temp.reset_index(drop=True, inplace=True)\n",
    "\n",
    "fig, ax = plt.subplots()\n",
    "\n",
    "ax.vlines(temp.index, temp.Observed, temp.Observed - (temp.Observed - temp.predicted), color='purple', linestyle='-', linewidth=0.5, alpha=0.3)\n",
    "\n",
    "ax.scatter(temp.index, temp.predicted, color='blue', marker='o', label='predicted', s=10)\n",
    "ax.scatter(temp.index, temp.Observed, color='red', marker='o', label='observed', s=10)\n",
    "\n",
    "ax.set_xlabel('index')\n",
    "ax.set_ylabel(\"PremiumPrice\")\n",
    "ax.legend()\n",
    "\n",
    "plt.show()"
   ]
  },
  {
   "cell_type": "code",
   "execution_count": 21,
   "id": "950f8438-e6d5-4a36-87a8-edae0e499ce4",
   "metadata": {},
   "outputs": [
    {
     "data": {
      "text/plain": [
       "1054.5698839749389"
      ]
     },
     "execution_count": 21,
     "metadata": {},
     "output_type": "execute_result"
    }
   ],
   "source": [
    "pred = forest_reg.predict(X_train)\n",
    "np.sqrt(mean_squared_error(y_train, pred))"
   ]
  },
  {
   "cell_type": "markdown",
   "id": "91738fbf-7659-49f6-b7c6-192150732bd0",
   "metadata": {},
   "source": [
    "## cross validation forest"
   ]
  },
  {
   "cell_type": "code",
   "execution_count": 22,
   "id": "2e000f1f-5180-4f47-b07d-fe712aa29e4f",
   "metadata": {},
   "outputs": [],
   "source": [
    "scores = cross_val_score(forest_reg, X_train, y_train,\n",
    "                         scoring=\"neg_mean_squared_error\", cv=10)"
   ]
  },
  {
   "cell_type": "code",
   "execution_count": 23,
   "id": "f4d04006-ef08-47f3-a018-4c95baff3d1d",
   "metadata": {},
   "outputs": [],
   "source": [
    "forest_rmse_scores = np.sqrt(-scores)"
   ]
  },
  {
   "cell_type": "code",
   "execution_count": 24,
   "id": "562511ed-3bcb-47b1-82db-c818336fd000",
   "metadata": {},
   "outputs": [],
   "source": [
    "def display_scores(scores):\n",
    "    print(\"Scores:\", scores)\n",
    "    print(\"Mean:\", scores.mean())\n",
    "    print(\"Standard deviation:\", scores.std())"
   ]
  },
  {
   "cell_type": "code",
   "execution_count": 25,
   "id": "49b6050e-9177-4710-81fc-5dba43622d9f",
   "metadata": {},
   "outputs": [
    {
     "name": "stdout",
     "output_type": "stream",
     "text": [
      "Scores: [3334.63728372 1826.99079057 1748.0025145  3029.26501179 2255.6203705\n",
      " 3828.76520869 2865.30811401 2576.08458027 1928.95186413 3850.9632103 ]\n",
      "Mean: 2724.458894846973\n",
      "Standard deviation: 748.8083427149965\n"
     ]
    }
   ],
   "source": [
    "display_scores(forest_rmse_scores)"
   ]
  },
  {
   "cell_type": "markdown",
   "id": "4e259175-9ced-4275-9209-aa7a550b563a",
   "metadata": {
    "jp-MarkdownHeadingCollapsed": true
   },
   "source": [
    "## hyperparameter forest"
   ]
  },
  {
   "cell_type": "markdown",
   "id": "2b1cbcc7-42bb-4137-8f31-75fe5d132bca",
   "metadata": {},
   "source": [
    "### RandomizedGridSearch"
   ]
  },
  {
   "cell_type": "code",
   "execution_count": 26,
   "id": "1413b541-6d0d-41a6-b893-b6a152b9ba04",
   "metadata": {},
   "outputs": [
    {
     "data": {
      "text/plain": [
       "{'bootstrap': True,\n",
       " 'ccp_alpha': 0.0,\n",
       " 'criterion': 'squared_error',\n",
       " 'max_depth': None,\n",
       " 'max_features': 1.0,\n",
       " 'max_leaf_nodes': None,\n",
       " 'max_samples': None,\n",
       " 'min_impurity_decrease': 0.0,\n",
       " 'min_samples_leaf': 1,\n",
       " 'min_samples_split': 2,\n",
       " 'min_weight_fraction_leaf': 0.0,\n",
       " 'n_estimators': 100,\n",
       " 'n_jobs': None,\n",
       " 'oob_score': False,\n",
       " 'random_state': 42,\n",
       " 'verbose': 0,\n",
       " 'warm_start': False}"
      ]
     },
     "execution_count": 26,
     "metadata": {},
     "output_type": "execute_result"
    }
   ],
   "source": [
    "forest_reg.get_params()"
   ]
  },
  {
   "cell_type": "code",
   "execution_count": 27,
   "id": "4281f935-b5b3-4f80-af04-811a89b5a153",
   "metadata": {},
   "outputs": [],
   "source": [
    "from sklearn.model_selection import RandomizedSearchCV"
   ]
  },
  {
   "cell_type": "code",
   "execution_count": 28,
   "id": "3c433d56-3f5e-413d-8093-c0144156556d",
   "metadata": {},
   "outputs": [],
   "source": [
    "n_estimators = [int(i) for i in np.linspace(200, 2000, 10)]\n",
    "max_features = ['log2', 'sqrt']\n",
    "max_depth = [int(i) for i in np.linspace(10, 110, 11)]\n",
    "max_depth.append(None)\n",
    "min_sample_split = [2, 5, 10]\n",
    "min_sample_leaf = [1, 2, 4]\n",
    "bootstrap = [True, False]"
   ]
  },
  {
   "cell_type": "code",
   "execution_count": 29,
   "id": "9a73a358-e1af-495a-b129-a263972c6c98",
   "metadata": {},
   "outputs": [
    {
     "data": {
      "text/plain": [
       "{'n_estimators': [200, 400, 600, 800, 1000, 1200, 1400, 1600, 1800, 2000],\n",
       " 'max_features': ['log2', 'sqrt'],\n",
       " 'max_depth': [10, 20, 30, 40, 50, 60, 70, 80, 90, 100, 110, None],\n",
       " 'min_samples_split': [2, 5, 10],\n",
       " 'min_samples_leaf': [1, 2, 4],\n",
       " 'bootstrap': [True, False]}"
      ]
     },
     "execution_count": 29,
     "metadata": {},
     "output_type": "execute_result"
    }
   ],
   "source": [
    "random_grid = {'n_estimators': n_estimators,\n",
    "               'max_features': max_features,\n",
    "               'max_depth': max_depth,\n",
    "               'min_samples_split': min_sample_split,\n",
    "               'min_samples_leaf': min_sample_leaf,\n",
    "               'bootstrap': bootstrap}\n",
    "random_grid"
   ]
  },
  {
   "cell_type": "code",
   "execution_count": 30,
   "id": "c9377de3-132e-40ec-a547-ee93eb25c541",
   "metadata": {},
   "outputs": [],
   "source": [
    "forest_reg = RandomForestRegressor()"
   ]
  },
  {
   "cell_type": "code",
   "execution_count": 31,
   "id": "f8a866a4-045b-47de-9dab-b911ea52398a",
   "metadata": {},
   "outputs": [],
   "source": [
    "forest_rgrid = RandomizedSearchCV(estimator=forest_reg,\n",
    "                                  param_distributions=random_grid,\n",
    "                                  cv=3,\n",
    "                                  verbose=2,\n",
    "                                  random_state=42,\n",
    "                                  n_jobs=-1,\n",
    "                                  scoring='neg_mean_squared_error',\n",
    "                                  return_train_score=True,\n",
    "                                  n_iter=100)"
   ]
  },
  {
   "cell_type": "markdown",
   "id": "74182b78-35d8-4148-90df-e76fbd0351f3",
   "metadata": {},
   "source": [
    "score = forest_rgrid.fit(X_train, y_train)"
   ]
  },
  {
   "cell_type": "markdown",
   "id": "48314366-36b3-444a-83c0-339b3c287b18",
   "metadata": {},
   "source": [
    "#### saving"
   ]
  },
  {
   "cell_type": "code",
   "execution_count": 32,
   "id": "9b9fb2ad-1ba2-47a1-8873-ba52231f9491",
   "metadata": {},
   "outputs": [],
   "source": [
    "import joblib"
   ]
  },
  {
   "cell_type": "markdown",
   "id": "4f27a611-a713-46af-bb35-e2300e1bf9c8",
   "metadata": {},
   "source": [
    "joblib.dump(score, \"forest1.pkl\")"
   ]
  },
  {
   "cell_type": "code",
   "execution_count": 33,
   "id": "7a42bf0a-01b6-4388-a755-58e7b726cb46",
   "metadata": {},
   "outputs": [],
   "source": [
    "score = joblib.load(\"forest1.pkl\")"
   ]
  },
  {
   "cell_type": "code",
   "execution_count": 34,
   "id": "59a73641-7775-45c1-af68-b710df3af022",
   "metadata": {},
   "outputs": [],
   "source": [
    "cvres = score.cv_results_"
   ]
  },
  {
   "cell_type": "code",
   "execution_count": 35,
   "id": "ada08b7e-c16c-4d0f-8118-aa958fc59a4c",
   "metadata": {},
   "outputs": [
    {
     "data": {
      "text/html": [
       "<div>\n",
       "<style scoped>\n",
       "    .dataframe tbody tr th:only-of-type {\n",
       "        vertical-align: middle;\n",
       "    }\n",
       "\n",
       "    .dataframe tbody tr th {\n",
       "        vertical-align: top;\n",
       "    }\n",
       "\n",
       "    .dataframe thead th {\n",
       "        text-align: right;\n",
       "    }\n",
       "</style>\n",
       "<table border=\"1\" class=\"dataframe\">\n",
       "  <thead>\n",
       "    <tr style=\"text-align: right;\">\n",
       "      <th></th>\n",
       "      <th>n_estimators</th>\n",
       "      <th>min_samples_split</th>\n",
       "      <th>min_samples_leaf</th>\n",
       "      <th>max_features</th>\n",
       "      <th>max_depth</th>\n",
       "      <th>bootstrap</th>\n",
       "      <th>rmse</th>\n",
       "    </tr>\n",
       "  </thead>\n",
       "  <tbody>\n",
       "    <tr>\n",
       "      <th>7</th>\n",
       "      <td>600</td>\n",
       "      <td>5</td>\n",
       "      <td>1</td>\n",
       "      <td>sqrt</td>\n",
       "      <td>60.0</td>\n",
       "      <td>False</td>\n",
       "      <td>3145.051387</td>\n",
       "    </tr>\n",
       "    <tr>\n",
       "      <th>24</th>\n",
       "      <td>1400</td>\n",
       "      <td>5</td>\n",
       "      <td>1</td>\n",
       "      <td>sqrt</td>\n",
       "      <td>80.0</td>\n",
       "      <td>False</td>\n",
       "      <td>3148.069194</td>\n",
       "    </tr>\n",
       "    <tr>\n",
       "      <th>21</th>\n",
       "      <td>1600</td>\n",
       "      <td>5</td>\n",
       "      <td>1</td>\n",
       "      <td>sqrt</td>\n",
       "      <td>70.0</td>\n",
       "      <td>False</td>\n",
       "      <td>3150.499203</td>\n",
       "    </tr>\n",
       "    <tr>\n",
       "      <th>32</th>\n",
       "      <td>800</td>\n",
       "      <td>5</td>\n",
       "      <td>1</td>\n",
       "      <td>sqrt</td>\n",
       "      <td>100.0</td>\n",
       "      <td>False</td>\n",
       "      <td>3155.334227</td>\n",
       "    </tr>\n",
       "    <tr>\n",
       "      <th>11</th>\n",
       "      <td>800</td>\n",
       "      <td>5</td>\n",
       "      <td>1</td>\n",
       "      <td>sqrt</td>\n",
       "      <td>90.0</td>\n",
       "      <td>False</td>\n",
       "      <td>3157.626644</td>\n",
       "    </tr>\n",
       "    <tr>\n",
       "      <th>20</th>\n",
       "      <td>1800</td>\n",
       "      <td>10</td>\n",
       "      <td>1</td>\n",
       "      <td>sqrt</td>\n",
       "      <td>30.0</td>\n",
       "      <td>False</td>\n",
       "      <td>3161.234199</td>\n",
       "    </tr>\n",
       "    <tr>\n",
       "      <th>73</th>\n",
       "      <td>400</td>\n",
       "      <td>5</td>\n",
       "      <td>1</td>\n",
       "      <td>log2</td>\n",
       "      <td>90.0</td>\n",
       "      <td>False</td>\n",
       "      <td>3163.198137</td>\n",
       "    </tr>\n",
       "    <tr>\n",
       "      <th>85</th>\n",
       "      <td>600</td>\n",
       "      <td>10</td>\n",
       "      <td>1</td>\n",
       "      <td>sqrt</td>\n",
       "      <td>40.0</td>\n",
       "      <td>False</td>\n",
       "      <td>3164.400386</td>\n",
       "    </tr>\n",
       "    <tr>\n",
       "      <th>68</th>\n",
       "      <td>1000</td>\n",
       "      <td>10</td>\n",
       "      <td>1</td>\n",
       "      <td>sqrt</td>\n",
       "      <td>80.0</td>\n",
       "      <td>False</td>\n",
       "      <td>3166.888603</td>\n",
       "    </tr>\n",
       "    <tr>\n",
       "      <th>16</th>\n",
       "      <td>600</td>\n",
       "      <td>5</td>\n",
       "      <td>2</td>\n",
       "      <td>log2</td>\n",
       "      <td>70.0</td>\n",
       "      <td>False</td>\n",
       "      <td>3168.495348</td>\n",
       "    </tr>\n",
       "    <tr>\n",
       "      <th>6</th>\n",
       "      <td>1000</td>\n",
       "      <td>5</td>\n",
       "      <td>2</td>\n",
       "      <td>sqrt</td>\n",
       "      <td>100.0</td>\n",
       "      <td>False</td>\n",
       "      <td>3174.819542</td>\n",
       "    </tr>\n",
       "    <tr>\n",
       "      <th>54</th>\n",
       "      <td>1400</td>\n",
       "      <td>5</td>\n",
       "      <td>2</td>\n",
       "      <td>sqrt</td>\n",
       "      <td>NaN</td>\n",
       "      <td>False</td>\n",
       "      <td>3178.289286</td>\n",
       "    </tr>\n",
       "    <tr>\n",
       "      <th>49</th>\n",
       "      <td>600</td>\n",
       "      <td>2</td>\n",
       "      <td>2</td>\n",
       "      <td>sqrt</td>\n",
       "      <td>110.0</td>\n",
       "      <td>False</td>\n",
       "      <td>3180.340172</td>\n",
       "    </tr>\n",
       "    <tr>\n",
       "      <th>12</th>\n",
       "      <td>2000</td>\n",
       "      <td>10</td>\n",
       "      <td>1</td>\n",
       "      <td>sqrt</td>\n",
       "      <td>10.0</td>\n",
       "      <td>False</td>\n",
       "      <td>3181.235071</td>\n",
       "    </tr>\n",
       "    <tr>\n",
       "      <th>31</th>\n",
       "      <td>800</td>\n",
       "      <td>2</td>\n",
       "      <td>2</td>\n",
       "      <td>sqrt</td>\n",
       "      <td>50.0</td>\n",
       "      <td>False</td>\n",
       "      <td>3184.301191</td>\n",
       "    </tr>\n",
       "    <tr>\n",
       "      <th>14</th>\n",
       "      <td>800</td>\n",
       "      <td>10</td>\n",
       "      <td>2</td>\n",
       "      <td>sqrt</td>\n",
       "      <td>30.0</td>\n",
       "      <td>False</td>\n",
       "      <td>3194.395172</td>\n",
       "    </tr>\n",
       "    <tr>\n",
       "      <th>83</th>\n",
       "      <td>800</td>\n",
       "      <td>10</td>\n",
       "      <td>2</td>\n",
       "      <td>log2</td>\n",
       "      <td>NaN</td>\n",
       "      <td>False</td>\n",
       "      <td>3195.513854</td>\n",
       "    </tr>\n",
       "    <tr>\n",
       "      <th>63</th>\n",
       "      <td>1200</td>\n",
       "      <td>10</td>\n",
       "      <td>2</td>\n",
       "      <td>log2</td>\n",
       "      <td>NaN</td>\n",
       "      <td>False</td>\n",
       "      <td>3195.901978</td>\n",
       "    </tr>\n",
       "    <tr>\n",
       "      <th>2</th>\n",
       "      <td>1200</td>\n",
       "      <td>5</td>\n",
       "      <td>2</td>\n",
       "      <td>sqrt</td>\n",
       "      <td>10.0</td>\n",
       "      <td>False</td>\n",
       "      <td>3196.832300</td>\n",
       "    </tr>\n",
       "    <tr>\n",
       "      <th>51</th>\n",
       "      <td>2000</td>\n",
       "      <td>10</td>\n",
       "      <td>2</td>\n",
       "      <td>log2</td>\n",
       "      <td>50.0</td>\n",
       "      <td>False</td>\n",
       "      <td>3197.189673</td>\n",
       "    </tr>\n",
       "  </tbody>\n",
       "</table>\n",
       "</div>"
      ],
      "text/plain": [
       "    n_estimators  min_samples_split  min_samples_leaf max_features  max_depth  \\\n",
       "7            600                  5                 1         sqrt       60.0   \n",
       "24          1400                  5                 1         sqrt       80.0   \n",
       "21          1600                  5                 1         sqrt       70.0   \n",
       "32           800                  5                 1         sqrt      100.0   \n",
       "11           800                  5                 1         sqrt       90.0   \n",
       "20          1800                 10                 1         sqrt       30.0   \n",
       "73           400                  5                 1         log2       90.0   \n",
       "85           600                 10                 1         sqrt       40.0   \n",
       "68          1000                 10                 1         sqrt       80.0   \n",
       "16           600                  5                 2         log2       70.0   \n",
       "6           1000                  5                 2         sqrt      100.0   \n",
       "54          1400                  5                 2         sqrt        NaN   \n",
       "49           600                  2                 2         sqrt      110.0   \n",
       "12          2000                 10                 1         sqrt       10.0   \n",
       "31           800                  2                 2         sqrt       50.0   \n",
       "14           800                 10                 2         sqrt       30.0   \n",
       "83           800                 10                 2         log2        NaN   \n",
       "63          1200                 10                 2         log2        NaN   \n",
       "2           1200                  5                 2         sqrt       10.0   \n",
       "51          2000                 10                 2         log2       50.0   \n",
       "\n",
       "    bootstrap         rmse  \n",
       "7       False  3145.051387  \n",
       "24      False  3148.069194  \n",
       "21      False  3150.499203  \n",
       "32      False  3155.334227  \n",
       "11      False  3157.626644  \n",
       "20      False  3161.234199  \n",
       "73      False  3163.198137  \n",
       "85      False  3164.400386  \n",
       "68      False  3166.888603  \n",
       "16      False  3168.495348  \n",
       "6       False  3174.819542  \n",
       "54      False  3178.289286  \n",
       "49      False  3180.340172  \n",
       "12      False  3181.235071  \n",
       "31      False  3184.301191  \n",
       "14      False  3194.395172  \n",
       "83      False  3195.513854  \n",
       "63      False  3195.901978  \n",
       "2       False  3196.832300  \n",
       "51      False  3197.189673  "
      ]
     },
     "execution_count": 35,
     "metadata": {},
     "output_type": "execute_result"
    }
   ],
   "source": [
    "temp = pd.DataFrame(cvres['params'])\n",
    "temp[\"rmse\"] = np.sqrt(-cvres[\"mean_test_score\"])\n",
    "temp.sort_values(\"rmse\").head(20)"
   ]
  },
  {
   "cell_type": "code",
   "execution_count": 36,
   "id": "2f2765fb-7294-4aaf-91c4-8a83d4c5797b",
   "metadata": {},
   "outputs": [],
   "source": [
    "best_forest_rgrid = score.best_estimator_"
   ]
  },
  {
   "cell_type": "code",
   "execution_count": 37,
   "id": "5fa0ffc9-f166-48e2-8eb1-cc334ab4109b",
   "metadata": {},
   "outputs": [
    {
     "ename": "ValueError",
     "evalue": "The feature names should match those that were passed during fit.\nFeature names unseen at fit time:\n- BMI\nFeature names seen at fit time, yet now missing:\n- Height\n- Weight\n",
     "output_type": "error",
     "traceback": [
      "\u001b[1;31m---------------------------------------------------------------------------\u001b[0m",
      "\u001b[1;31mValueError\u001b[0m                                Traceback (most recent call last)",
      "Cell \u001b[1;32mIn[37], line 1\u001b[0m\n\u001b[1;32m----> 1\u001b[0m pred \u001b[38;5;241m=\u001b[39m \u001b[43mbest_forest_rgrid\u001b[49m\u001b[38;5;241;43m.\u001b[39;49m\u001b[43mpredict\u001b[49m\u001b[43m(\u001b[49m\u001b[43mX_test\u001b[49m\u001b[43m)\u001b[49m\n",
      "File \u001b[1;32m~\\miniconda3\\envs\\env0\\lib\\site-packages\\sklearn\\ensemble\\_forest.py:984\u001b[0m, in \u001b[0;36mForestRegressor.predict\u001b[1;34m(self, X)\u001b[0m\n\u001b[0;32m    982\u001b[0m check_is_fitted(\u001b[38;5;28mself\u001b[39m)\n\u001b[0;32m    983\u001b[0m \u001b[38;5;66;03m# Check data\u001b[39;00m\n\u001b[1;32m--> 984\u001b[0m X \u001b[38;5;241m=\u001b[39m \u001b[38;5;28;43mself\u001b[39;49m\u001b[38;5;241;43m.\u001b[39;49m\u001b[43m_validate_X_predict\u001b[49m\u001b[43m(\u001b[49m\u001b[43mX\u001b[49m\u001b[43m)\u001b[49m\n\u001b[0;32m    986\u001b[0m \u001b[38;5;66;03m# Assign chunk of trees to jobs\u001b[39;00m\n\u001b[0;32m    987\u001b[0m n_jobs, _, _ \u001b[38;5;241m=\u001b[39m _partition_estimators(\u001b[38;5;28mself\u001b[39m\u001b[38;5;241m.\u001b[39mn_estimators, \u001b[38;5;28mself\u001b[39m\u001b[38;5;241m.\u001b[39mn_jobs)\n",
      "File \u001b[1;32m~\\miniconda3\\envs\\env0\\lib\\site-packages\\sklearn\\ensemble\\_forest.py:599\u001b[0m, in \u001b[0;36mBaseForest._validate_X_predict\u001b[1;34m(self, X)\u001b[0m\n\u001b[0;32m    596\u001b[0m \u001b[38;5;250m\u001b[39m\u001b[38;5;124;03m\"\"\"\u001b[39;00m\n\u001b[0;32m    597\u001b[0m \u001b[38;5;124;03mValidate X whenever one tries to predict, apply, predict_proba.\"\"\"\u001b[39;00m\n\u001b[0;32m    598\u001b[0m check_is_fitted(\u001b[38;5;28mself\u001b[39m)\n\u001b[1;32m--> 599\u001b[0m X \u001b[38;5;241m=\u001b[39m \u001b[38;5;28;43mself\u001b[39;49m\u001b[38;5;241;43m.\u001b[39;49m\u001b[43m_validate_data\u001b[49m\u001b[43m(\u001b[49m\u001b[43mX\u001b[49m\u001b[43m,\u001b[49m\u001b[43m \u001b[49m\u001b[43mdtype\u001b[49m\u001b[38;5;241;43m=\u001b[39;49m\u001b[43mDTYPE\u001b[49m\u001b[43m,\u001b[49m\u001b[43m \u001b[49m\u001b[43maccept_sparse\u001b[49m\u001b[38;5;241;43m=\u001b[39;49m\u001b[38;5;124;43m\"\u001b[39;49m\u001b[38;5;124;43mcsr\u001b[39;49m\u001b[38;5;124;43m\"\u001b[39;49m\u001b[43m,\u001b[49m\u001b[43m \u001b[49m\u001b[43mreset\u001b[49m\u001b[38;5;241;43m=\u001b[39;49m\u001b[38;5;28;43;01mFalse\u001b[39;49;00m\u001b[43m)\u001b[49m\n\u001b[0;32m    600\u001b[0m \u001b[38;5;28;01mif\u001b[39;00m issparse(X) \u001b[38;5;129;01mand\u001b[39;00m (X\u001b[38;5;241m.\u001b[39mindices\u001b[38;5;241m.\u001b[39mdtype \u001b[38;5;241m!=\u001b[39m np\u001b[38;5;241m.\u001b[39mintc \u001b[38;5;129;01mor\u001b[39;00m X\u001b[38;5;241m.\u001b[39mindptr\u001b[38;5;241m.\u001b[39mdtype \u001b[38;5;241m!=\u001b[39m np\u001b[38;5;241m.\u001b[39mintc):\n\u001b[0;32m    601\u001b[0m     \u001b[38;5;28;01mraise\u001b[39;00m \u001b[38;5;167;01mValueError\u001b[39;00m(\u001b[38;5;124m\"\u001b[39m\u001b[38;5;124mNo support for np.int64 index based sparse matrices\u001b[39m\u001b[38;5;124m\"\u001b[39m)\n",
      "File \u001b[1;32m~\\miniconda3\\envs\\env0\\lib\\site-packages\\sklearn\\base.py:580\u001b[0m, in \u001b[0;36mBaseEstimator._validate_data\u001b[1;34m(self, X, y, reset, validate_separately, cast_to_ndarray, **check_params)\u001b[0m\n\u001b[0;32m    509\u001b[0m \u001b[38;5;28;01mdef\u001b[39;00m \u001b[38;5;21m_validate_data\u001b[39m(\n\u001b[0;32m    510\u001b[0m     \u001b[38;5;28mself\u001b[39m,\n\u001b[0;32m    511\u001b[0m     X\u001b[38;5;241m=\u001b[39m\u001b[38;5;124m\"\u001b[39m\u001b[38;5;124mno_validation\u001b[39m\u001b[38;5;124m\"\u001b[39m,\n\u001b[1;32m   (...)\u001b[0m\n\u001b[0;32m    516\u001b[0m     \u001b[38;5;241m*\u001b[39m\u001b[38;5;241m*\u001b[39mcheck_params,\n\u001b[0;32m    517\u001b[0m ):\n\u001b[0;32m    518\u001b[0m \u001b[38;5;250m    \u001b[39m\u001b[38;5;124;03m\"\"\"Validate input data and set or check the `n_features_in_` attribute.\u001b[39;00m\n\u001b[0;32m    519\u001b[0m \n\u001b[0;32m    520\u001b[0m \u001b[38;5;124;03m    Parameters\u001b[39;00m\n\u001b[1;32m   (...)\u001b[0m\n\u001b[0;32m    578\u001b[0m \u001b[38;5;124;03m        validated.\u001b[39;00m\n\u001b[0;32m    579\u001b[0m \u001b[38;5;124;03m    \"\"\"\u001b[39;00m\n\u001b[1;32m--> 580\u001b[0m     \u001b[38;5;28;43mself\u001b[39;49m\u001b[38;5;241;43m.\u001b[39;49m\u001b[43m_check_feature_names\u001b[49m\u001b[43m(\u001b[49m\u001b[43mX\u001b[49m\u001b[43m,\u001b[49m\u001b[43m \u001b[49m\u001b[43mreset\u001b[49m\u001b[38;5;241;43m=\u001b[39;49m\u001b[43mreset\u001b[49m\u001b[43m)\u001b[49m\n\u001b[0;32m    582\u001b[0m     \u001b[38;5;28;01mif\u001b[39;00m y \u001b[38;5;129;01mis\u001b[39;00m \u001b[38;5;28;01mNone\u001b[39;00m \u001b[38;5;129;01mand\u001b[39;00m \u001b[38;5;28mself\u001b[39m\u001b[38;5;241m.\u001b[39m_get_tags()[\u001b[38;5;124m\"\u001b[39m\u001b[38;5;124mrequires_y\u001b[39m\u001b[38;5;124m\"\u001b[39m]:\n\u001b[0;32m    583\u001b[0m         \u001b[38;5;28;01mraise\u001b[39;00m \u001b[38;5;167;01mValueError\u001b[39;00m(\n\u001b[0;32m    584\u001b[0m             \u001b[38;5;124mf\u001b[39m\u001b[38;5;124m\"\u001b[39m\u001b[38;5;124mThis \u001b[39m\u001b[38;5;132;01m{\u001b[39;00m\u001b[38;5;28mself\u001b[39m\u001b[38;5;241m.\u001b[39m\u001b[38;5;18m__class__\u001b[39m\u001b[38;5;241m.\u001b[39m\u001b[38;5;18m__name__\u001b[39m\u001b[38;5;132;01m}\u001b[39;00m\u001b[38;5;124m estimator \u001b[39m\u001b[38;5;124m\"\u001b[39m\n\u001b[0;32m    585\u001b[0m             \u001b[38;5;124m\"\u001b[39m\u001b[38;5;124mrequires y to be passed, but the target y is None.\u001b[39m\u001b[38;5;124m\"\u001b[39m\n\u001b[0;32m    586\u001b[0m         )\n",
      "File \u001b[1;32m~\\miniconda3\\envs\\env0\\lib\\site-packages\\sklearn\\base.py:507\u001b[0m, in \u001b[0;36mBaseEstimator._check_feature_names\u001b[1;34m(self, X, reset)\u001b[0m\n\u001b[0;32m    502\u001b[0m \u001b[38;5;28;01mif\u001b[39;00m \u001b[38;5;129;01mnot\u001b[39;00m missing_names \u001b[38;5;129;01mand\u001b[39;00m \u001b[38;5;129;01mnot\u001b[39;00m unexpected_names:\n\u001b[0;32m    503\u001b[0m     message \u001b[38;5;241m+\u001b[39m\u001b[38;5;241m=\u001b[39m (\n\u001b[0;32m    504\u001b[0m         \u001b[38;5;124m\"\u001b[39m\u001b[38;5;124mFeature names must be in the same order as they were in fit.\u001b[39m\u001b[38;5;130;01m\\n\u001b[39;00m\u001b[38;5;124m\"\u001b[39m\n\u001b[0;32m    505\u001b[0m     )\n\u001b[1;32m--> 507\u001b[0m \u001b[38;5;28;01mraise\u001b[39;00m \u001b[38;5;167;01mValueError\u001b[39;00m(message)\n",
      "\u001b[1;31mValueError\u001b[0m: The feature names should match those that were passed during fit.\nFeature names unseen at fit time:\n- BMI\nFeature names seen at fit time, yet now missing:\n- Height\n- Weight\n"
     ]
    }
   ],
   "source": [
    "pred = best_forest_rgrid.predict(X_test)"
   ]
  },
  {
   "cell_type": "code",
   "execution_count": null,
   "id": "996ef564-d852-4c04-a6fc-faf63bcdfbe1",
   "metadata": {},
   "outputs": [],
   "source": [
    "np.sqrt(mean_squared_error(y_test, pred))"
   ]
  },
  {
   "cell_type": "code",
   "execution_count": null,
   "id": "681b80d7-16b8-423f-842d-8bab48c7002f",
   "metadata": {},
   "outputs": [],
   "source": [
    "temp = pd.DataFrame({'Observed':y_test, 'predicted':pred})\n",
    "temp.sort_values('Observed', inplace=True)\n",
    "temp.reset_index(drop=True, inplace=True)\n",
    "\n",
    "sns.lineplot(temp.Observed, label=\"Observed\")\n",
    "sns.lineplot(temp.predicted, label=\"predicted\")\n",
    "plt.xlabel('Data Points')\n",
    "plt.ylabel('Values')\n",
    "plt.title('Predicted vs Real Test Values')\n",
    "plt.plot()"
   ]
  },
  {
   "cell_type": "code",
   "execution_count": null,
   "id": "947f53b1-2d6f-47c7-af2d-960d390cd092",
   "metadata": {},
   "outputs": [],
   "source": [
    "pred = best_forest_rgrid.predict(X_train)\n",
    "np.sqrt(mean_squared_error(y_train, pred))"
   ]
  },
  {
   "cell_type": "markdown",
   "id": "085a9072-460f-4c03-9eec-c759ad93cae5",
   "metadata": {},
   "source": [
    "### GridSearch"
   ]
  },
  {
   "cell_type": "code",
   "execution_count": null,
   "id": "7992d0de-8e7a-46c4-a4ff-25c0d1027528",
   "metadata": {},
   "outputs": [],
   "source": [
    "from sklearn.model_selection import GridSearchCV"
   ]
  },
  {
   "cell_type": "code",
   "execution_count": null,
   "id": "c198f3d6-d06c-414b-8bef-96e8a0076b2a",
   "metadata": {},
   "outputs": [],
   "source": [
    "score.best_params_"
   ]
  },
  {
   "cell_type": "code",
   "execution_count": null,
   "id": "1dc5e475-4182-4858-957c-e393757e9b16",
   "metadata": {},
   "outputs": [],
   "source": [
    "param_grid = {\n",
    "    'bootstrap': [False],\n",
    "    'max_depth': [50, 60, 70],\n",
    "    'max_features': ['sqrt'],\n",
    "    'min_samples_leaf': [1, 2, 3],\n",
    "    'min_samples_split': [5, 6, 7],\n",
    "    'n_estimators': [600, 800, 1000, 1200]\n",
    "}"
   ]
  },
  {
   "cell_type": "code",
   "execution_count": null,
   "id": "f4d449d6-5689-40a3-bfce-f7b9970f0701",
   "metadata": {},
   "outputs": [],
   "source": [
    "forest_reg = RandomForestRegressor()"
   ]
  },
  {
   "cell_type": "code",
   "execution_count": null,
   "id": "67ab1158-eb33-48c0-9c3f-3b67f245228f",
   "metadata": {},
   "outputs": [],
   "source": [
    "forest_grid = GridSearchCV(estimator = forest_reg, param_grid = param_grid, \n",
    "                          cv = 3, n_jobs = -1, verbose = 2)"
   ]
  },
  {
   "cell_type": "code",
   "execution_count": null,
   "id": "f4a39588-47ac-4137-bf08-a75f4507ba5d",
   "metadata": {},
   "outputs": [],
   "source": [
    "score = forest_grid.fit(X_train, y_train)"
   ]
  },
  {
   "cell_type": "markdown",
   "id": "6af67df9-9a09-427a-a9c6-47aaeeae24fb",
   "metadata": {},
   "source": [
    "#### saving"
   ]
  },
  {
   "cell_type": "markdown",
   "id": "61bb21ec-fe40-46d1-b1e0-25254be554e6",
   "metadata": {},
   "source": [
    "joblib.dump(score, \"forest2.pkl\")"
   ]
  },
  {
   "cell_type": "markdown",
   "id": "ffc57ee9-1a83-43eb-85c5-94a5568594a7",
   "metadata": {},
   "source": [
    "score = joblib.load(\"forest2.pkl\")"
   ]
  },
  {
   "cell_type": "code",
   "execution_count": null,
   "id": "b16be075-48c1-4500-bf1b-02d5df15fdeb",
   "metadata": {},
   "outputs": [],
   "source": [
    "score."
   ]
  },
  {
   "cell_type": "code",
   "execution_count": null,
   "id": "0abbd017-7734-41fb-85b5-a4e6957c8183",
   "metadata": {},
   "outputs": [],
   "source": [
    "best_forest_grid = score.best_estimator_"
   ]
  },
  {
   "cell_type": "code",
   "execution_count": null,
   "id": "927effb2-7c38-44e8-9ec8-6f77b631680c",
   "metadata": {},
   "outputs": [],
   "source": [
    "pred = best_forest_grid.predict(X_test)"
   ]
  },
  {
   "cell_type": "code",
   "execution_count": null,
   "id": "592038b2-6335-4288-8ccf-b30adb0596e4",
   "metadata": {},
   "outputs": [],
   "source": [
    "np.sqrt(mean_squared_error(y_test, pred))"
   ]
  },
  {
   "cell_type": "code",
   "execution_count": null,
   "id": "dc279730-e215-4d2f-a5e0-926eb962f79b",
   "metadata": {},
   "outputs": [],
   "source": [
    "feature_imp1 = best_forest_grid.feature_importances_\n",
    "\n",
    "\n",
    "sns.barplot(x=feature_imp1, y=X_test.columns)\n",
    "plt.xlabel('Feature Importance Score')\n",
    "plt.ylabel('Features')\n",
    "plt.title(\"Visualizing Important Features\")\n",
    "plt.show()"
   ]
  },
  {
   "cell_type": "code",
   "execution_count": null,
   "id": "477f4c21-7fa7-45e5-a828-5d51f719cbbf",
   "metadata": {},
   "outputs": [],
   "source": [
    "temp = pd.DataFrame({'Observed':y_test, 'predicted':pred})\n",
    "temp.sort_values('Observed', inplace=True)\n",
    "temp.reset_index(drop=True, inplace=True)\n",
    "\n",
    "sns.lineplot(temp.Observed, label=\"Observed\")\n",
    "sns.lineplot(temp.predicted, label=\"predicted\")\n",
    "plt.xlabel('Data Points')\n",
    "plt.ylabel('Values')\n",
    "plt.title('Predicted vs Real Test Values')\n",
    "plt.plot()"
   ]
  },
  {
   "cell_type": "markdown",
   "id": "8e464167-3c60-46ad-a88f-acf433c72c00",
   "metadata": {
    "jp-MarkdownHeadingCollapsed": true
   },
   "source": [
    "# AdaBoost"
   ]
  },
  {
   "cell_type": "code",
   "execution_count": null,
   "id": "70b70338-0a65-44bb-bea8-374139646a86",
   "metadata": {},
   "outputs": [],
   "source": [
    "from sklearn.ensemble import AdaBoostRegressor\n",
    "from sklearn.tree import DecisionTreeRegressor"
   ]
  },
  {
   "cell_type": "code",
   "execution_count": null,
   "id": "0a9dce81-ca95-43ae-a420-dac44dc7cd9d",
   "metadata": {},
   "outputs": [],
   "source": [
    "Dtree = DecisionTreeRegressor(max_depth=1)\n",
    "model = AdaBoostRegressor(n_estimators=50, base_estimator=Dtree, learning_rate=0.5)"
   ]
  },
  {
   "cell_type": "code",
   "execution_count": null,
   "id": "5329f53f-1c98-47a6-b871-08f929289969",
   "metadata": {},
   "outputs": [],
   "source": [
    "model"
   ]
  },
  {
   "cell_type": "code",
   "execution_count": null,
   "id": "980bf459-3f8f-4174-8453-d555d3da697f",
   "metadata": {},
   "outputs": [],
   "source": [
    "model.fit(X_train, y_train)"
   ]
  },
  {
   "cell_type": "code",
   "execution_count": null,
   "id": "beb9b25b-0149-4118-92b8-bf82a4f08228",
   "metadata": {},
   "outputs": [],
   "source": [
    "pred = model.predict(X_test)"
   ]
  },
  {
   "cell_type": "code",
   "execution_count": null,
   "id": "4dd05ae6-d52d-434e-b7c4-47005bffd614",
   "metadata": {},
   "outputs": [],
   "source": [
    "np.sqrt(mean_squared_error(y_test, pred))"
   ]
  },
  {
   "cell_type": "markdown",
   "id": "11d5e6cc-4d5f-4c95-9c8f-100b9c2d8c33",
   "metadata": {
    "jp-MarkdownHeadingCollapsed": true
   },
   "source": [
    "# XGBoost\n"
   ]
  },
  {
   "cell_type": "code",
   "execution_count": 38,
   "id": "5464a632-4d09-422d-8ff1-603d353a56f8",
   "metadata": {},
   "outputs": [],
   "source": [
    "import xgboost as xgb"
   ]
  },
  {
   "cell_type": "code",
   "execution_count": 39,
   "id": "cd900b19-1291-42a7-a066-f25b735dae64",
   "metadata": {},
   "outputs": [],
   "source": [
    "model = xgb.XGBRegressor(n_estimators=1000, max_depth=7, eta=0.1,\n",
    "                         subsample=0.7, colsample_bytree=0.8)"
   ]
  },
  {
   "cell_type": "code",
   "execution_count": 40,
   "id": "6541908b-40ef-4a62-bd68-7dfc1a261dc7",
   "metadata": {},
   "outputs": [],
   "source": [
    "xgb_scores = cross_val_score(model, X_train, y_train, \n",
    "                             scoring='neg_mean_squared_error',\n",
    "                             cv=5, n_jobs=-1)"
   ]
  },
  {
   "cell_type": "code",
   "execution_count": 41,
   "id": "58cde407-a980-4220-8fe7-1c1bf8147639",
   "metadata": {},
   "outputs": [
    {
     "data": {
      "text/plain": [
       "array([3040.64000302, 2951.42481793, 2954.38161352, 3069.67216144,\n",
       "       3036.49133873])"
      ]
     },
     "execution_count": 41,
     "metadata": {},
     "output_type": "execute_result"
    }
   ],
   "source": [
    "np.sqrt(-xgb_scores)"
   ]
  },
  {
   "cell_type": "code",
   "execution_count": 42,
   "id": "9d40cdb6-f56a-4aee-9d5b-214c431432b8",
   "metadata": {},
   "outputs": [
    {
     "data": {
      "text/html": [
       "<style>#sk-container-id-2 {color: black;}#sk-container-id-2 pre{padding: 0;}#sk-container-id-2 div.sk-toggleable {background-color: white;}#sk-container-id-2 label.sk-toggleable__label {cursor: pointer;display: block;width: 100%;margin-bottom: 0;padding: 0.3em;box-sizing: border-box;text-align: center;}#sk-container-id-2 label.sk-toggleable__label-arrow:before {content: \"▸\";float: left;margin-right: 0.25em;color: #696969;}#sk-container-id-2 label.sk-toggleable__label-arrow:hover:before {color: black;}#sk-container-id-2 div.sk-estimator:hover label.sk-toggleable__label-arrow:before {color: black;}#sk-container-id-2 div.sk-toggleable__content {max-height: 0;max-width: 0;overflow: hidden;text-align: left;background-color: #f0f8ff;}#sk-container-id-2 div.sk-toggleable__content pre {margin: 0.2em;color: black;border-radius: 0.25em;background-color: #f0f8ff;}#sk-container-id-2 input.sk-toggleable__control:checked~div.sk-toggleable__content {max-height: 200px;max-width: 100%;overflow: auto;}#sk-container-id-2 input.sk-toggleable__control:checked~label.sk-toggleable__label-arrow:before {content: \"▾\";}#sk-container-id-2 div.sk-estimator input.sk-toggleable__control:checked~label.sk-toggleable__label {background-color: #d4ebff;}#sk-container-id-2 div.sk-label input.sk-toggleable__control:checked~label.sk-toggleable__label {background-color: #d4ebff;}#sk-container-id-2 input.sk-hidden--visually {border: 0;clip: rect(1px 1px 1px 1px);clip: rect(1px, 1px, 1px, 1px);height: 1px;margin: -1px;overflow: hidden;padding: 0;position: absolute;width: 1px;}#sk-container-id-2 div.sk-estimator {font-family: monospace;background-color: #f0f8ff;border: 1px dotted black;border-radius: 0.25em;box-sizing: border-box;margin-bottom: 0.5em;}#sk-container-id-2 div.sk-estimator:hover {background-color: #d4ebff;}#sk-container-id-2 div.sk-parallel-item::after {content: \"\";width: 100%;border-bottom: 1px solid gray;flex-grow: 1;}#sk-container-id-2 div.sk-label:hover label.sk-toggleable__label {background-color: #d4ebff;}#sk-container-id-2 div.sk-serial::before {content: \"\";position: absolute;border-left: 1px solid gray;box-sizing: border-box;top: 0;bottom: 0;left: 50%;z-index: 0;}#sk-container-id-2 div.sk-serial {display: flex;flex-direction: column;align-items: center;background-color: white;padding-right: 0.2em;padding-left: 0.2em;position: relative;}#sk-container-id-2 div.sk-item {position: relative;z-index: 1;}#sk-container-id-2 div.sk-parallel {display: flex;align-items: stretch;justify-content: center;background-color: white;position: relative;}#sk-container-id-2 div.sk-item::before, #sk-container-id-2 div.sk-parallel-item::before {content: \"\";position: absolute;border-left: 1px solid gray;box-sizing: border-box;top: 0;bottom: 0;left: 50%;z-index: -1;}#sk-container-id-2 div.sk-parallel-item {display: flex;flex-direction: column;z-index: 1;position: relative;background-color: white;}#sk-container-id-2 div.sk-parallel-item:first-child::after {align-self: flex-end;width: 50%;}#sk-container-id-2 div.sk-parallel-item:last-child::after {align-self: flex-start;width: 50%;}#sk-container-id-2 div.sk-parallel-item:only-child::after {width: 0;}#sk-container-id-2 div.sk-dashed-wrapped {border: 1px dashed gray;margin: 0 0.4em 0.5em 0.4em;box-sizing: border-box;padding-bottom: 0.4em;background-color: white;}#sk-container-id-2 div.sk-label label {font-family: monospace;font-weight: bold;display: inline-block;line-height: 1.2em;}#sk-container-id-2 div.sk-label-container {text-align: center;}#sk-container-id-2 div.sk-container {/* jupyter's `normalize.less` sets `[hidden] { display: none; }` but bootstrap.min.css set `[hidden] { display: none !important; }` so we also need the `!important` here to be able to override the default hidden behavior on the sphinx rendered scikit-learn.org. See: https://github.com/scikit-learn/scikit-learn/issues/21755 */display: inline-block !important;position: relative;}#sk-container-id-2 div.sk-text-repr-fallback {display: none;}</style><div id=\"sk-container-id-2\" class=\"sk-top-container\"><div class=\"sk-text-repr-fallback\"><pre>XGBRegressor(base_score=None, booster=None, callbacks=None,\n",
       "             colsample_bylevel=None, colsample_bynode=None,\n",
       "             colsample_bytree=0.8, early_stopping_rounds=None,\n",
       "             enable_categorical=False, eta=0.1, eval_metric=None,\n",
       "             feature_types=None, gamma=None, gpu_id=None, grow_policy=None,\n",
       "             importance_type=None, interaction_constraints=None,\n",
       "             learning_rate=None, max_bin=None, max_cat_threshold=None,\n",
       "             max_cat_to_onehot=None, max_delta_step=None, max_depth=7,\n",
       "             max_leaves=None, min_child_weight=None, missing=nan,\n",
       "             monotone_constraints=None, n_estimators=1000, n_jobs=None,\n",
       "             num_parallel_tree=None, predictor=None, ...)</pre><b>In a Jupyter environment, please rerun this cell to show the HTML representation or trust the notebook. <br />On GitHub, the HTML representation is unable to render, please try loading this page with nbviewer.org.</b></div><div class=\"sk-container\" hidden><div class=\"sk-item\"><div class=\"sk-estimator sk-toggleable\"><input class=\"sk-toggleable__control sk-hidden--visually\" id=\"sk-estimator-id-2\" type=\"checkbox\" checked><label for=\"sk-estimator-id-2\" class=\"sk-toggleable__label sk-toggleable__label-arrow\">XGBRegressor</label><div class=\"sk-toggleable__content\"><pre>XGBRegressor(base_score=None, booster=None, callbacks=None,\n",
       "             colsample_bylevel=None, colsample_bynode=None,\n",
       "             colsample_bytree=0.8, early_stopping_rounds=None,\n",
       "             enable_categorical=False, eta=0.1, eval_metric=None,\n",
       "             feature_types=None, gamma=None, gpu_id=None, grow_policy=None,\n",
       "             importance_type=None, interaction_constraints=None,\n",
       "             learning_rate=None, max_bin=None, max_cat_threshold=None,\n",
       "             max_cat_to_onehot=None, max_delta_step=None, max_depth=7,\n",
       "             max_leaves=None, min_child_weight=None, missing=nan,\n",
       "             monotone_constraints=None, n_estimators=1000, n_jobs=None,\n",
       "             num_parallel_tree=None, predictor=None, ...)</pre></div></div></div></div></div>"
      ],
      "text/plain": [
       "XGBRegressor(base_score=None, booster=None, callbacks=None,\n",
       "             colsample_bylevel=None, colsample_bynode=None,\n",
       "             colsample_bytree=0.8, early_stopping_rounds=None,\n",
       "             enable_categorical=False, eta=0.1, eval_metric=None,\n",
       "             feature_types=None, gamma=None, gpu_id=None, grow_policy=None,\n",
       "             importance_type=None, interaction_constraints=None,\n",
       "             learning_rate=None, max_bin=None, max_cat_threshold=None,\n",
       "             max_cat_to_onehot=None, max_delta_step=None, max_depth=7,\n",
       "             max_leaves=None, min_child_weight=None, missing=nan,\n",
       "             monotone_constraints=None, n_estimators=1000, n_jobs=None,\n",
       "             num_parallel_tree=None, predictor=None, ...)"
      ]
     },
     "execution_count": 42,
     "metadata": {},
     "output_type": "execute_result"
    }
   ],
   "source": [
    "model.fit(X_train, y_train)"
   ]
  },
  {
   "cell_type": "code",
   "execution_count": 43,
   "id": "2dbf2c62-87ca-435f-b28c-34c48d637401",
   "metadata": {},
   "outputs": [],
   "source": [
    "pred = model.predict(X_test)"
   ]
  },
  {
   "cell_type": "code",
   "execution_count": 44,
   "id": "1d691f2d-8e74-48f1-a47a-de0edc5e4db0",
   "metadata": {},
   "outputs": [
    {
     "data": {
      "text/plain": [
       "3882.833494667975"
      ]
     },
     "execution_count": 44,
     "metadata": {},
     "output_type": "execute_result"
    }
   ],
   "source": [
    "np.sqrt(mean_squared_error(y_test, pred))"
   ]
  },
  {
   "cell_type": "code",
   "execution_count": 45,
   "id": "aacf8ae4-dfe4-4a24-b1ca-c6f04eaf64c0",
   "metadata": {},
   "outputs": [
    {
     "data": {
      "image/png": "[encoded data removed]",
      "text/plain": [
       "<Figure size 640x480 with 1 Axes>"
      ]
     },
     "metadata": {},
     "output_type": "display_data"
    }
   ],
   "source": [
    "feature_imp1 = model.feature_importances_\n",
    "\n",
    "sns.barplot(x=feature_imp1, y=X_train.columns)\n",
    "plt.xlabel('Feature Importance Score')\n",
    "plt.ylabel('Features')\n",
    "plt.title(\"Visualizing Important Features\")\n",
    "plt.show()"
   ]
  },
  {
   "cell_type": "code",
   "execution_count": 46,
   "id": "de637873-e2fc-4a92-9df8-06a7cc50dac9",
   "metadata": {},
   "outputs": [],
   "source": [
    "scores = cross_val_score(model, X_train, y_train,\n",
    "                         scoring=\"neg_mean_squared_error\", cv=10)"
   ]
  },
  {
   "cell_type": "code",
   "execution_count": 47,
   "id": "7b2d020e-cc91-4917-9bba-0e1820a844a9",
   "metadata": {},
   "outputs": [],
   "source": [
    "scores = np.sqrt(-scores)"
   ]
  },
  {
   "cell_type": "code",
   "execution_count": 48,
   "id": "83ed690b-dacb-48b7-bbc1-07c0b1338096",
   "metadata": {},
   "outputs": [],
   "source": [
    "def display_scores(scores):\n",
    "    print(\"Scores:\", scores)\n",
    "    print(\"Mean:\", scores.mean())\n",
    "    print(\"Standard deviation:\", scores.std())"
   ]
  },
  {
   "cell_type": "code",
   "execution_count": 49,
   "id": "28c503ea-4568-4ec0-89d0-d06aab1fa470",
   "metadata": {},
   "outputs": [
    {
     "name": "stdout",
     "output_type": "stream",
     "text": [
      "Scores: [3816.08810533 2338.84974138 1686.27003749 3395.88239282 2625.49815687\n",
      " 3994.44677539 2570.45565719 2787.29057462 2186.37195721 3532.55166819]\n",
      "Mean: 2893.370506648181\n",
      "Standard deviation: 719.4832720738407\n"
     ]
    }
   ],
   "source": [
    "display_scores(scores)"
   ]
  },
  {
   "cell_type": "code",
   "execution_count": 50,
   "id": "85462d27-a6ff-47e6-affa-24cc4355f5c9",
   "metadata": {},
   "outputs": [
    {
     "data": {
      "image/png": "[encoded data removed]",
      "text/plain": [
       "<Figure size 640x480 with 1 Axes>"
      ]
     },
     "metadata": {},
     "output_type": "display_data"
    }
   ],
   "source": [
    "temp = pd.DataFrame({'Observed':y_test, 'predicted':pred})\n",
    "temp.sort_values('Observed', inplace=True)\n",
    "temp.reset_index(drop=True, inplace=True)\n",
    "\n",
    "fig, ax = plt.subplots()\n",
    "\n",
    "ax.vlines(temp.index, temp.Observed, temp.Observed - (temp.Observed - temp.predicted), color='purple', linestyle='-', linewidth=0.5, alpha=0.3)\n",
    "\n",
    "ax.scatter(temp.index, temp.predicted, color='red', marker='o', label='predicted', s=10)\n",
    "ax.scatter(temp.index, temp.Observed, color='blue', marker='o', label='observed', s=10)\n",
    "\n",
    "ax.set_xlabel('index')\n",
    "ax.set_ylabel(\"PremiumPrice\")\n",
    "ax.legend()\n",
    "\n",
    "plt.show()"
   ]
  },
  {
   "cell_type": "markdown",
   "id": "ed5f112c-342f-4647-8f9a-c4b6d8b36a96",
   "metadata": {},
   "source": [
    "# Cluster wise model fitting"
   ]
  },
  {
   "cell_type": "code",
   "execution_count": 51,
   "id": "9097ac6d-5a26-4dab-a50d-bff841d428a5",
   "metadata": {},
   "outputs": [],
   "source": [
    "dq = pd.read_csv(\"data.csv\")"
   ]
  },
  {
   "cell_type": "code",
   "execution_count": 52,
   "id": "00470d6d-21a8-4894-8b51-157bd17d4a9b",
   "metadata": {},
   "outputs": [],
   "source": [
    "dq.drop([\"BMI\", \"BMI_cat\"], axis=1, inplace=True)"
   ]
  },
  {
   "cell_type": "code",
   "execution_count": 53,
   "id": "13cc50e9-2c2c-414e-abb8-7b9aab9d0a28",
   "metadata": {},
   "outputs": [],
   "source": [
    "cluster1 = dq[dq.cluster == 1]\n",
    "cluster2 = dq[dq.cluster == 2]\n",
    "cluster3 = dq[dq.cluster == 3]"
   ]
  },
  {
   "cell_type": "markdown",
   "id": "c62f7bc3-6de9-49b5-99ee-b7a48a3686eb",
   "metadata": {
    "jp-MarkdownHeadingCollapsed": true
   },
   "source": [
    "## cluster1"
   ]
  },
  {
   "cell_type": "code",
   "execution_count": 54,
   "id": "1b45eecf-7e70-420e-9e80-281266428c4f",
   "metadata": {},
   "outputs": [
    {
     "name": "stdout",
     "output_type": "stream",
     "text": [
      "3555.052248733916\n"
     ]
    },
    {
     "data": {
      "image/png": "[encoded data removed]",
      "text/plain": [
       "<Figure size 640x480 with 1 Axes>"
      ]
     },
     "metadata": {},
     "output_type": "display_data"
    }
   ],
   "source": [
    "X_c1 = cluster1.drop(\"PremiumPrice\", axis=1)\n",
    "y_c1 = cluster1.PremiumPrice\n",
    "X_c1_train, X_c1_test, y_c1_train, y_c1_test = train_test_split(X_c1, y_c1, test_size=0.2, random_state=42)\n",
    "\n",
    "forest_reg = RandomForestRegressor()\n",
    "\n",
    "forest_reg.fit(X_c1_train, y_c1_train)\n",
    "\n",
    "pred = forest_reg.predict(X_c1_test)\n",
    "\n",
    "print(np.sqrt(mean_squared_error(y_c1_test, pred)))\n",
    "\n",
    "temp = pd.DataFrame({'Observed':y_c1_test, 'predicted':pred})\n",
    "temp.sort_values('Observed', inplace=True)\n",
    "temp.reset_index(drop=True, inplace=True)\n",
    "\n",
    "fig, ax = plt.subplots()\n",
    "\n",
    "ax.vlines(temp.index, temp.Observed, temp.Observed - (temp.Observed - temp.predicted), color='purple', linestyle='-', linewidth=0.5, alpha=0.3)\n",
    "\n",
    "ax.scatter(temp.index, temp.predicted, color='red', marker='o', label='predicted', s=10)\n",
    "ax.scatter(temp.index, temp.Observed, color='blue', marker='o', label='observed', s=10)\n",
    "\n",
    "ax.set_xlabel('index')\n",
    "ax.set_ylabel(\"PremiumPrice\")\n",
    "ax.legend()\n",
    "\n",
    "plt.show()"
   ]
  },
  {
   "cell_type": "markdown",
   "id": "300d5d8d-1e63-4145-84d5-ae1e7418d59e",
   "metadata": {},
   "source": [
    "### cv"
   ]
  },
  {
   "cell_type": "code",
   "execution_count": 55,
   "id": "99438c4d-8fd4-4990-91fc-f56f49b3ad4c",
   "metadata": {},
   "outputs": [
    {
     "name": "stdout",
     "output_type": "stream",
     "text": [
      "Scores: [3275.33602657 2997.86808307 2206.3101205  1429.28531852 2959.7877421\n",
      " 3294.17008088 1317.91831904 1203.91571278 2348.21208582 2562.99895364]\n",
      "Mean: 2359.5802442912523\n",
      "Standard deviation: 763.5964957356995\n"
     ]
    }
   ],
   "source": [
    "scores = cross_val_score(forest_reg, X_c1_train, y_c1_train, scoring=\"neg_mean_squared_error\", cv=10)\n",
    "\n",
    "scores = np.sqrt(-scores)\n",
    "\n",
    "display_scores(scores)"
   ]
  },
  {
   "cell_type": "markdown",
   "id": "11e9b945-b7d6-456d-98a6-13a1f911b5ff",
   "metadata": {
    "jp-MarkdownHeadingCollapsed": true
   },
   "source": [
    "## cluster2"
   ]
  },
  {
   "cell_type": "code",
   "execution_count": 56,
   "id": "14c7b67a-edd4-4ee1-9c60-3bf1b40ed112",
   "metadata": {},
   "outputs": [
    {
     "name": "stdout",
     "output_type": "stream",
     "text": [
      "4933.901213858949\n"
     ]
    },
    {
     "data": {
      "image/png": "[encoded data removed]",
      "text/plain": [
       "<Figure size 640x480 with 1 Axes>"
      ]
     },
     "metadata": {},
     "output_type": "display_data"
    }
   ],
   "source": [
    "X_c2 = cluster2.drop(\"PremiumPrice\", axis=1)\n",
    "y_c2 = cluster2.PremiumPrice\n",
    "X_c2_train, X_c2_test, y_c2_train, y_c2_test = train_test_split(X_c2, y_c2, test_size=0.2, random_state=42)\n",
    "\n",
    "forest_reg = RandomForestRegressor()\n",
    "\n",
    "forest_reg.fit(X_c2_train, y_c2_train)\n",
    "\n",
    "pred = forest_reg.predict(X_c2_test)\n",
    "\n",
    "print(np.sqrt(mean_squared_error(y_c2_test, pred)))\n",
    "\n",
    "temp = pd.DataFrame({'Observed':y_c2_test, 'predicted':pred})\n",
    "temp.sort_values('Observed', inplace=True)\n",
    "temp.reset_index(drop=True, inplace=True)\n",
    "\n",
    "fig, ax = plt.subplots()\n",
    "\n",
    "ax.vlines(temp.index, temp.Observed, temp.Observed - (temp.Observed - temp.predicted), color='purple', linestyle='-', linewidth=0.5, alpha=0.3)\n",
    "\n",
    "ax.scatter(temp.index, temp.predicted, color='red', marker='o', label='predicted', s=10)\n",
    "ax.scatter(temp.index, temp.Observed, color='blue', marker='o', label='observed', s=10)\n",
    "\n",
    "ax.set_xlabel('index')\n",
    "ax.set_ylabel(\"PremiumPrice\")\n",
    "ax.legend()\n",
    "\n",
    "plt.show()"
   ]
  },
  {
   "cell_type": "markdown",
   "id": "50a23985-1a9f-4f40-8af5-9addf7b9b2c9",
   "metadata": {},
   "source": [
    "### cv"
   ]
  },
  {
   "cell_type": "code",
   "execution_count": 57,
   "id": "f4e20ad9-90c2-4a97-9cf1-5535bedc502c",
   "metadata": {},
   "outputs": [
    {
     "name": "stdout",
     "output_type": "stream",
     "text": [
      "Scores: [2448.08956127 3896.14039788 1688.23650594 1961.85180378 3844.11628336\n",
      " 1132.29965115 3488.47280339 3296.39575901 3524.53791298 2326.68326164]\n",
      "Mean: 2760.682394040363\n",
      "Standard deviation: 926.7797576746954\n"
     ]
    }
   ],
   "source": [
    "scores = cross_val_score(forest_reg, X_c2_train, y_c2_train, scoring=\"neg_mean_squared_error\", cv=10)\n",
    "\n",
    "scores = np.sqrt(-scores)\n",
    "\n",
    "display_scores(scores)"
   ]
  },
  {
   "cell_type": "markdown",
   "id": "9a3fb9f9-cb9e-4921-be6e-1ea8e2d0816c",
   "metadata": {
    "jp-MarkdownHeadingCollapsed": true
   },
   "source": [
    "## cluster3"
   ]
  },
  {
   "cell_type": "code",
   "execution_count": 58,
   "id": "9ce6d97c-fee2-4856-a990-7f7892bf9f75",
   "metadata": {},
   "outputs": [
    {
     "name": "stdout",
     "output_type": "stream",
     "text": [
      "1625.261517418043\n"
     ]
    },
    {
     "data": {
      "image/png": "[encoded data removed]",
      "text/plain": [
       "<Figure size 640x480 with 1 Axes>"
      ]
     },
     "metadata": {},
     "output_type": "display_data"
    }
   ],
   "source": [
    "X_c3 = cluster3.drop(\"PremiumPrice\", axis=1)\n",
    "y_c3 = cluster3.PremiumPrice\n",
    "X_c3_train, X_c3_test, y_c3_train, y_c3_test = train_test_split(X_c3, y_c3, test_size=0.2, random_state=42)\n",
    "\n",
    "forest_reg = RandomForestRegressor()\n",
    "\n",
    "forest_reg.fit(X_c3_train, y_c3_train)\n",
    "\n",
    "pred = forest_reg.predict(X_c3_test)\n",
    "\n",
    "print(np.sqrt(mean_squared_error(y_c3_test, pred)))\n",
    "\n",
    "temp = pd.DataFrame({'Observed':y_c3_test, 'predicted':pred})\n",
    "temp.sort_values('Observed', inplace=True)\n",
    "temp.reset_index(drop=True, inplace=True)\n",
    "\n",
    "fig, ax = plt.subplots()\n",
    "\n",
    "ax.vlines(temp.index, temp.Observed, temp.Observed - (temp.Observed - temp.predicted), color='purple', linestyle='-', linewidth=0.5, alpha=0.3)\n",
    "\n",
    "ax.scatter(temp.index, temp.predicted, color='red', marker='o', label='predicted', s=10)\n",
    "ax.scatter(temp.index, temp.Observed, color='blue', marker='o', label='observed', s=10)\n",
    "\n",
    "ax.set_xlabel('index')\n",
    "ax.set_ylabel(\"PremiumPrice\")\n",
    "ax.legend()\n",
    "\n",
    "plt.show()"
   ]
  },
  {
   "cell_type": "markdown",
   "id": "233c7162-f2ac-4f3c-aeba-323694bf1433",
   "metadata": {},
   "source": [
    "### cv"
   ]
  },
  {
   "cell_type": "code",
   "execution_count": 59,
   "id": "03ce8459-acc6-405b-88d2-50e251ba4685",
   "metadata": {},
   "outputs": [
    {
     "name": "stdout",
     "output_type": "stream",
     "text": [
      "Scores: [ 251.80597689 2577.20657884 1565.76059792 1440.27775099 2664.2764027\n",
      " 1890.43315142 1913.96675781 1495.61024335 3244.223713    993.56051653]\n",
      "Mean: 1803.7121689452156\n",
      "Standard deviation: 823.5293173888508\n"
     ]
    }
   ],
   "source": [
    "scores = cross_val_score(forest_reg, X_c3_train, y_c3_train, scoring=\"neg_mean_squared_error\", cv=10)\n",
    "\n",
    "scores = np.sqrt(-scores)\n",
    "\n",
    "display_scores(scores)"
   ]
  },
  {
   "cell_type": "markdown",
   "id": "7eccc55b-b13e-4f85-958f-b797f6edef36",
   "metadata": {},
   "source": [
    "# Adding cluster label"
   ]
  },
  {
   "cell_type": "code",
   "execution_count": 71,
   "id": "d8463413-6ebd-48a9-8529-cc01a36f1634",
   "metadata": {},
   "outputs": [],
   "source": [
    "dp = upsample().fit_transform(dq.copy())"
   ]
  },
  {
   "cell_type": "code",
   "execution_count": 97,
   "id": "5e4b9337-add5-44b1-b177-962f5f1ff8c1",
   "metadata": {},
   "outputs": [],
   "source": [
    "X = dp.drop(\"PremiumPrice\", axis=1)\n",
    "y = dp.PremiumPrice"
   ]
  },
  {
   "cell_type": "code",
   "execution_count": 98,
   "id": "86eb1d31-a81a-4019-9e18-8dd63053de4e",
   "metadata": {},
   "outputs": [],
   "source": [
    "x_train, x_test, y_train, y_test = train_test_split(X, y, test_size=0.2, random_state=42)"
   ]
  },
  {
   "cell_type": "code",
   "execution_count": 99,
   "id": "6ea96e16-5126-4bb7-9d91-3d0e49b00e82",
   "metadata": {},
   "outputs": [],
   "source": [
    "X_train = pipe.fit_transform(x_train.copy())\n",
    "X_test = pipe.fit_transform(x_test.copy())"
   ]
  },
  {
   "cell_type": "code",
   "execution_count": 107,
   "id": "ec0d24af-d40d-4c20-94db-262e29da252e",
   "metadata": {},
   "outputs": [],
   "source": [
    "forest_reg = RandomForestRegressor(random_state=42)"
   ]
  },
  {
   "cell_type": "code",
   "execution_count": 108,
   "id": "34be66d3-c22a-44bd-b684-46f782a53085",
   "metadata": {},
   "outputs": [
    {
     "data": {
      "text/html": [
       "<style>#sk-container-id-7 {color: black;}#sk-container-id-7 pre{padding: 0;}#sk-container-id-7 div.sk-toggleable {background-color: white;}#sk-container-id-7 label.sk-toggleable__label {cursor: pointer;display: block;width: 100%;margin-bottom: 0;padding: 0.3em;box-sizing: border-box;text-align: center;}#sk-container-id-7 label.sk-toggleable__label-arrow:before {content: \"▸\";float: left;margin-right: 0.25em;color: #696969;}#sk-container-id-7 label.sk-toggleable__label-arrow:hover:before {color: black;}#sk-container-id-7 div.sk-estimator:hover label.sk-toggleable__label-arrow:before {color: black;}#sk-container-id-7 div.sk-toggleable__content {max-height: 0;max-width: 0;overflow: hidden;text-align: left;background-color: #f0f8ff;}#sk-container-id-7 div.sk-toggleable__content pre {margin: 0.2em;color: black;border-radius: 0.25em;background-color: #f0f8ff;}#sk-container-id-7 input.sk-toggleable__control:checked~div.sk-toggleable__content {max-height: 200px;max-width: 100%;overflow: auto;}#sk-container-id-7 input.sk-toggleable__control:checked~label.sk-toggleable__label-arrow:before {content: \"▾\";}#sk-container-id-7 div.sk-estimator input.sk-toggleable__control:checked~label.sk-toggleable__label {background-color: #d4ebff;}#sk-container-id-7 div.sk-label input.sk-toggleable__control:checked~label.sk-toggleable__label {background-color: #d4ebff;}#sk-container-id-7 input.sk-hidden--visually {border: 0;clip: rect(1px 1px 1px 1px);clip: rect(1px, 1px, 1px, 1px);height: 1px;margin: -1px;overflow: hidden;padding: 0;position: absolute;width: 1px;}#sk-container-id-7 div.sk-estimator {font-family: monospace;background-color: #f0f8ff;border: 1px dotted black;border-radius: 0.25em;box-sizing: border-box;margin-bottom: 0.5em;}#sk-container-id-7 div.sk-estimator:hover {background-color: #d4ebff;}#sk-container-id-7 div.sk-parallel-item::after {content: \"\";width: 100%;border-bottom: 1px solid gray;flex-grow: 1;}#sk-container-id-7 div.sk-label:hover label.sk-toggleable__label {background-color: #d4ebff;}#sk-container-id-7 div.sk-serial::before {content: \"\";position: absolute;border-left: 1px solid gray;box-sizing: border-box;top: 0;bottom: 0;left: 50%;z-index: 0;}#sk-container-id-7 div.sk-serial {display: flex;flex-direction: column;align-items: center;background-color: white;padding-right: 0.2em;padding-left: 0.2em;position: relative;}#sk-container-id-7 div.sk-item {position: relative;z-index: 1;}#sk-container-id-7 div.sk-parallel {display: flex;align-items: stretch;justify-content: center;background-color: white;position: relative;}#sk-container-id-7 div.sk-item::before, #sk-container-id-7 div.sk-parallel-item::before {content: \"\";position: absolute;border-left: 1px solid gray;box-sizing: border-box;top: 0;bottom: 0;left: 50%;z-index: -1;}#sk-container-id-7 div.sk-parallel-item {display: flex;flex-direction: column;z-index: 1;position: relative;background-color: white;}#sk-container-id-7 div.sk-parallel-item:first-child::after {align-self: flex-end;width: 50%;}#sk-container-id-7 div.sk-parallel-item:last-child::after {align-self: flex-start;width: 50%;}#sk-container-id-7 div.sk-parallel-item:only-child::after {width: 0;}#sk-container-id-7 div.sk-dashed-wrapped {border: 1px dashed gray;margin: 0 0.4em 0.5em 0.4em;box-sizing: border-box;padding-bottom: 0.4em;background-color: white;}#sk-container-id-7 div.sk-label label {font-family: monospace;font-weight: bold;display: inline-block;line-height: 1.2em;}#sk-container-id-7 div.sk-label-container {text-align: center;}#sk-container-id-7 div.sk-container {/* jupyter's `normalize.less` sets `[hidden] { display: none; }` but bootstrap.min.css set `[hidden] { display: none !important; }` so we also need the `!important` here to be able to override the default hidden behavior on the sphinx rendered scikit-learn.org. See: https://github.com/scikit-learn/scikit-learn/issues/21755 */display: inline-block !important;position: relative;}#sk-container-id-7 div.sk-text-repr-fallback {display: none;}</style><div id=\"sk-container-id-7\" class=\"sk-top-container\"><div class=\"sk-text-repr-fallback\"><pre>RandomForestRegressor(random_state=42)</pre><b>In a Jupyter environment, please rerun this cell to show the HTML representation or trust the notebook. <br />On GitHub, the HTML representation is unable to render, please try loading this page with nbviewer.org.</b></div><div class=\"sk-container\" hidden><div class=\"sk-item\"><div class=\"sk-estimator sk-toggleable\"><input class=\"sk-toggleable__control sk-hidden--visually\" id=\"sk-estimator-id-7\" type=\"checkbox\" checked><label for=\"sk-estimator-id-7\" class=\"sk-toggleable__label sk-toggleable__label-arrow\">RandomForestRegressor</label><div class=\"sk-toggleable__content\"><pre>RandomForestRegressor(random_state=42)</pre></div></div></div></div></div>"
      ],
      "text/plain": [
       "RandomForestRegressor(random_state=42)"
      ]
     },
     "execution_count": 108,
     "metadata": {},
     "output_type": "execute_result"
    }
   ],
   "source": [
    "forest_reg.fit(X_train, y_train)"
   ]
  },
  {
   "cell_type": "code",
   "execution_count": 109,
   "id": "ff4f226f-0c31-4f78-a5ac-8715846b0863",
   "metadata": {},
   "outputs": [],
   "source": [
    "pred = forest_reg.predict(X_test)"
   ]
  },
  {
   "cell_type": "code",
   "execution_count": 110,
   "id": "941ddf1a-19f0-4d4a-aab9-d10ef249547c",
   "metadata": {},
   "outputs": [
    {
     "data": {
      "text/plain": [
       "3758.7159768187494"
      ]
     },
     "execution_count": 110,
     "metadata": {},
     "output_type": "execute_result"
    }
   ],
   "source": [
    "np.sqrt(mean_squared_error(y_test, pred))"
   ]
  },
  {
   "cell_type": "code",
   "execution_count": 111,
   "id": "f0097fcf-1183-451a-aecf-313a8ca25ccf",
   "metadata": {},
   "outputs": [
    {
     "data": {
      "image/png": "[encoded data removed]",
      "text/plain": [
       "<Figure size 640x480 with 1 Axes>"
      ]
     },
     "metadata": {},
     "output_type": "display_data"
    }
   ],
   "source": [
    "feature_imp1 = forest_reg.feature_importances_\n",
    "\n",
    "sns.barplot(x=feature_imp1, y=X_train.columns)\n",
    "plt.xlabel('Feature Importance Score')\n",
    "plt.ylabel('Features')\n",
    "plt.title(\"Visualizing Important Features\")\n",
    "plt.show()"
   ]
  },
  {
   "cell_type": "code",
   "execution_count": 112,
   "id": "58fd793e-3c69-4bc9-9a44-928e514e9d3d",
   "metadata": {},
   "outputs": [
    {
     "data": {
      "image/png": "[encoded data removed]",
      "text/plain": [
       "<Figure size 640x480 with 1 Axes>"
      ]
     },
     "metadata": {},
     "output_type": "display_data"
    }
   ],
   "source": [
    "temp = pd.DataFrame({'Observed':y_test, 'predicted':pred})\n",
    "temp.sort_values('Observed', inplace=True)\n",
    "temp.reset_index(drop=True, inplace=True)\n",
    "\n",
    "fig, ax = plt.subplots()\n",
    "\n",
    "ax.vlines(temp.index, temp.Observed, temp.Observed - (temp.Observed - temp.predicted), color='purple', linestyle='-', linewidth=0.5, alpha=0.3)\n",
    "\n",
    "ax.scatter(temp.index, temp.predicted, color='red', marker='o', label='predicted', s=10)\n",
    "ax.scatter(temp.index, temp.Observed, color='blue', marker='o', label='observed', s=10)\n",
    "\n",
    "ax.set_xlabel('index')\n",
    "ax.set_ylabel(\"PremiumPrice\")\n",
    "ax.legend()\n",
    "\n",
    "plt.show()"
   ]
  },
  {
   "cell_type": "markdown",
   "id": "4aef61a0-25ad-409f-aee1-788e393d8623",
   "metadata": {},
   "source": [
    "## cross validation"
   ]
  },
  {
   "cell_type": "code",
   "execution_count": 113,
   "id": "7e25e354-5148-4257-9a6d-6789d7dd23c2",
   "metadata": {},
   "outputs": [
    {
     "name": "stdout",
     "output_type": "stream",
     "text": [
      "Scores: [3283.2791677  1877.8900208  1864.35349478 3037.34048294 2272.41752223\n",
      " 3814.10341807 2867.90556904 2518.98999368 1955.92463466 3756.06568257]\n",
      "Mean: 2724.8269986461323\n",
      "Standard deviation: 705.4043003143042\n"
     ]
    }
   ],
   "source": [
    "scores = cross_val_score(forest_reg, X_train, y_train, scoring=\"neg_mean_squared_error\", cv=10)\n",
    "\n",
    "scores = np.sqrt(-scores)\n",
    "\n",
    "display_scores(scores)"
   ]
  },
  {
   "cell_type": "code",
   "execution_count": null,
   "id": "aac6b478-26ff-49c6-a2cd-e7168a239024",
   "metadata": {},
   "outputs": [],
   "source": []
  },
  {
   "cell_type": "code",
   "execution_count": null,
   "id": "8d80b103-1359-46c4-b8b8-1c009ed28b8b",
   "metadata": {},
   "outputs": [],
   "source": []
  },
  {
   "cell_type": "code",
   "execution_count": null,
   "id": "5e2d41e6-a351-486c-9ec1-68a1bcb1931c",
   "metadata": {},
   "outputs": [],
   "source": []
  }
 ],
 "metadata": {
  "kernelspec": {
   "display_name": "Python 3 (ipykernel)",
   "language": "python",
   "name": "python3"
  },
  "language_info": {
   "codemirror_mode": {
    "name": "ipython",
    "version": 3
   },
   "file_extension": ".py",
   "mimetype": "text/x-python",
   "name": "python",
   "nbconvert_exporter": "python",
   "pygments_lexer": "ipython3",
   "version": "3.10.13"
  }
 },
 "nbformat": 4,
 "nbformat_minor": 5
}
