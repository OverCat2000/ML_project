{
 "cells": [
  {
   "cell_type": "code",
   "execution_count": 1,
   "id": "cca86c85-e6cf-464d-8939-1e11a64cdcc4",
   "metadata": {},
   "outputs": [],
   "source": [
    "import pandas as pd\n",
    "import numpy as np\n",
    "import matplotlib.pyplot as plt\n",
    "import seaborn as sns\n",
    "from sklearn.pipeline import Pipeline\n",
    "from sklearn.preprocessing import StandardScaler, OneHotEncoder, OrdinalEncoder\n",
    "from sklearn.compose import ColumnTransformer\n",
    "import warnings\n",
    "warnings.filterwarnings('ignore')"
   ]
  },
  {
   "cell_type": "code",
   "execution_count": 2,
   "id": "916daa96-d9dc-4039-83c1-91f828d664cf",
   "metadata": {},
   "outputs": [],
   "source": [
    "data = pd.read_csv(\"Medicalpremium.csv\")"
   ]
  },
  {
   "cell_type": "code",
   "execution_count": 3,
   "id": "f7611b3b-8251-447e-9035-903ab3bf496f",
   "metadata": {},
   "outputs": [],
   "source": [
    "df = data.copy()"
   ]
  },
  {
   "cell_type": "code",
   "execution_count": 4,
   "id": "b3559512-6898-4d66-9d35-f10f0de0ec17",
   "metadata": {},
   "outputs": [],
   "source": [
    "X = df.drop(\"PremiumPrice\", axis=1)\n",
    "y = df.PremiumPrice.copy()"
   ]
  },
  {
   "cell_type": "code",
   "execution_count": 5,
   "id": "7d0a5d1c-02fc-49ad-b45c-582fe87ef83e",
   "metadata": {},
   "outputs": [
    {
     "data": {
      "text/plain": [
       "['Age', 'Height', 'Weight']"
      ]
     },
     "execution_count": 5,
     "metadata": {},
     "output_type": "execute_result"
    }
   ],
   "source": [
    "num_cols = [i for i in X.columns if len(np.unique(X[i])) > 5]\n",
    "num_cols"
   ]
  },
  {
   "cell_type": "code",
   "execution_count": 6,
   "id": "63618591-50ed-4b31-8075-100a1e74b190",
   "metadata": {},
   "outputs": [
    {
     "data": {
      "text/plain": [
       "['Age', 'Height', 'Weight', 'BMI']"
      ]
     },
     "execution_count": 6,
     "metadata": {},
     "output_type": "execute_result"
    }
   ],
   "source": [
    "num_cols + [\"BMI\"]"
   ]
  },
  {
   "cell_type": "code",
   "execution_count": 7,
   "id": "dc94d669-26d7-48a8-a361-e3424b9b1c15",
   "metadata": {},
   "outputs": [],
   "source": [
    "from sklearn.base import BaseEstimator, TransformerMixin"
   ]
  },
  {
   "cell_type": "code",
   "execution_count": 8,
   "id": "03b2c213-6415-4aaf-b8ab-e09dcb50da9e",
   "metadata": {},
   "outputs": [],
   "source": [
    "class BMI(BaseEstimator, TransformerMixin):\n",
    "    def __init__(self, bmi=True, bmiCat=True, dropbmi=False):\n",
    "        self.bmi = bmi\n",
    "        self.bmiCat = bmiCat\n",
    "        self.dropbmi = dropbmi\n",
    "\n",
    "    def fit(self, X, y=None):\n",
    "        return self\n",
    "\n",
    "    def transform(self, X, y=None):\n",
    "        if self.bmi:\n",
    "            X[\"BMI\"] = X[\"Weight\"]/(X[\"Height\"]/100)**2\n",
    "            \n",
    "            if self.bmiCat:\n",
    "                bins = [0, 18.5, 24.9, 29.9, 34.9, 100]\n",
    "                labels = ['Underweight', 'Normal', 'Overweight', 'Obese', 'Extreme']\n",
    "                X[\"BMI_cat\"] = pd.cut(X[\"BMI\"], bins=bins, labels=labels, right=False)\n",
    "                if self.dropbmi:\n",
    "                    X = X.drop(\"BMI\", axis=1)\n",
    "                    return X\n",
    "                else:\n",
    "                    return X\n",
    "            else:\n",
    "                return X\n",
    "        else:\n",
    "            return X"
   ]
  },
  {
   "cell_type": "code",
   "execution_count": 9,
   "id": "9e4d3fd0-d196-4c35-9871-189431423ee0",
   "metadata": {},
   "outputs": [],
   "source": [
    "class oneHot(BaseEstimator, TransformerMixin):\n",
    "    def __init__(self, columns=None):\n",
    "        self.columns = columns\n",
    "        self.encoder = OneHotEncoder(sparse=False, drop='first')\n",
    "\n",
    "    def fit(self, X, y=None):\n",
    "        self.encoder.fit(X[self.columns])\n",
    "        return self\n",
    "\n",
    "    def transform(self, X, y=None):\n",
    "        onehot_encoded = self.encoder.transform(X[self.columns])\n",
    "        feature_names = self.encoder.get_feature_names_out()\n",
    "        result_df = pd.DataFrame(onehot_encoded, columns=feature_names)\n",
    "        return pd.concat([X.drop(columns=self.columns), result_df], axis=1)"
   ]
  },
  {
   "cell_type": "code",
   "execution_count": 10,
   "id": "cfb0fbaa-d7d6-49b2-86c9-4cfec7209d11",
   "metadata": {},
   "outputs": [],
   "source": [
    "class StdScaler(BaseEstimator, TransformerMixin):\n",
    "    def __init__(self, columns=None):\n",
    "        self.columns = columns\n",
    "        self.scaler = StandardScaler()\n",
    "\n",
    "    def fit(self, X, y=None):\n",
    "        num_cols = [i for i in X.columns if len(np.unique(X[i])) > 5]\n",
    "        self.columns = num_cols\n",
    "        self.scaler.fit(X[self.columns])\n",
    "        return self\n",
    "\n",
    "    def transform(self, X, y=None):\n",
    "        scaled_data = self.scaler.transform(X[self.columns])\n",
    "        result_df = pd.DataFrame(scaled_data, columns=self.columns)\n",
    "        return pd.concat([X.drop(columns=self.columns), result_df], axis=1)"
   ]
  },
  {
   "cell_type": "code",
   "execution_count": 11,
   "id": "62409ad3-f91c-4406-bae2-30ddfec8647a",
   "metadata": {},
   "outputs": [],
   "source": [
    "pipe = Pipeline([\n",
    "    ('bmi', BMI(bmi=False)),\n",
    "    #('oneHot', oneHot(columns=[\"BMI_cat\"])),\n",
    "    ('scaler', StdScaler())\n",
    "])"
   ]
  },
  {
   "cell_type": "code",
   "execution_count": 12,
   "id": "83ba1c46-3265-4925-ac38-0a60b0784d39",
   "metadata": {},
   "outputs": [],
   "source": [
    "X_scaled = pd.DataFrame(pipe.fit_transform(X.copy()))"
   ]
  },
  {
   "cell_type": "code",
   "execution_count": 13,
   "id": "5d97b43a-53a1-4b0c-a4fa-dc940f0883a1",
   "metadata": {},
   "outputs": [
    {
     "data": {
      "text/html": [
       "<div>\n",
       "<style scoped>\n",
       "    .dataframe tbody tr th:only-of-type {\n",
       "        vertical-align: middle;\n",
       "    }\n",
       "\n",
       "    .dataframe tbody tr th {\n",
       "        vertical-align: top;\n",
       "    }\n",
       "\n",
       "    .dataframe thead th {\n",
       "        text-align: right;\n",
       "    }\n",
       "</style>\n",
       "<table border=\"1\" class=\"dataframe\">\n",
       "  <thead>\n",
       "    <tr style=\"text-align: right;\">\n",
       "      <th></th>\n",
       "      <th>Diabetes</th>\n",
       "      <th>BloodPressureProblems</th>\n",
       "      <th>AnyTransplants</th>\n",
       "      <th>AnyChronicDiseases</th>\n",
       "      <th>KnownAllergies</th>\n",
       "      <th>HistoryOfCancerInFamily</th>\n",
       "      <th>NumberOfMajorSurgeries</th>\n",
       "      <th>Age</th>\n",
       "      <th>Height</th>\n",
       "      <th>Weight</th>\n",
       "    </tr>\n",
       "  </thead>\n",
       "  <tbody>\n",
       "    <tr>\n",
       "      <th>0</th>\n",
       "      <td>0</td>\n",
       "      <td>0</td>\n",
       "      <td>0</td>\n",
       "      <td>0</td>\n",
       "      <td>0</td>\n",
       "      <td>0</td>\n",
       "      <td>0</td>\n",
       "      <td>0.233197</td>\n",
       "      <td>-1.306105</td>\n",
       "      <td>-1.399250</td>\n",
       "    </tr>\n",
       "    <tr>\n",
       "      <th>1</th>\n",
       "      <td>1</td>\n",
       "      <td>0</td>\n",
       "      <td>0</td>\n",
       "      <td>0</td>\n",
       "      <td>0</td>\n",
       "      <td>0</td>\n",
       "      <td>0</td>\n",
       "      <td>1.307981</td>\n",
       "      <td>1.170852</td>\n",
       "      <td>-0.277062</td>\n",
       "    </tr>\n",
       "    <tr>\n",
       "      <th>2</th>\n",
       "      <td>1</td>\n",
       "      <td>1</td>\n",
       "      <td>0</td>\n",
       "      <td>0</td>\n",
       "      <td>0</td>\n",
       "      <td>0</td>\n",
       "      <td>1</td>\n",
       "      <td>-0.411674</td>\n",
       "      <td>-1.008870</td>\n",
       "      <td>-1.258976</td>\n",
       "    </tr>\n",
       "    <tr>\n",
       "      <th>3</th>\n",
       "      <td>1</td>\n",
       "      <td>1</td>\n",
       "      <td>0</td>\n",
       "      <td>1</td>\n",
       "      <td>0</td>\n",
       "      <td>0</td>\n",
       "      <td>2</td>\n",
       "      <td>0.734763</td>\n",
       "      <td>1.468086</td>\n",
       "      <td>1.125674</td>\n",
       "    </tr>\n",
       "    <tr>\n",
       "      <th>4</th>\n",
       "      <td>0</td>\n",
       "      <td>0</td>\n",
       "      <td>0</td>\n",
       "      <td>1</td>\n",
       "      <td>0</td>\n",
       "      <td>0</td>\n",
       "      <td>1</td>\n",
       "      <td>-0.268369</td>\n",
       "      <td>-0.216244</td>\n",
       "      <td>0.774990</td>\n",
       "    </tr>\n",
       "    <tr>\n",
       "      <th>...</th>\n",
       "      <td>...</td>\n",
       "      <td>...</td>\n",
       "      <td>...</td>\n",
       "      <td>...</td>\n",
       "      <td>...</td>\n",
       "      <td>...</td>\n",
       "      <td>...</td>\n",
       "      <td>...</td>\n",
       "      <td>...</td>\n",
       "      <td>...</td>\n",
       "    </tr>\n",
       "    <tr>\n",
       "      <th>981</th>\n",
       "      <td>0</td>\n",
       "      <td>0</td>\n",
       "      <td>0</td>\n",
       "      <td>0</td>\n",
       "      <td>0</td>\n",
       "      <td>0</td>\n",
       "      <td>0</td>\n",
       "      <td>-1.701415</td>\n",
       "      <td>0.080991</td>\n",
       "      <td>-0.697882</td>\n",
       "    </tr>\n",
       "    <tr>\n",
       "      <th>982</th>\n",
       "      <td>1</td>\n",
       "      <td>1</td>\n",
       "      <td>0</td>\n",
       "      <td>0</td>\n",
       "      <td>0</td>\n",
       "      <td>0</td>\n",
       "      <td>3</td>\n",
       "      <td>1.594590</td>\n",
       "      <td>-1.504261</td>\n",
       "      <td>-0.487472</td>\n",
       "    </tr>\n",
       "    <tr>\n",
       "      <th>983</th>\n",
       "      <td>0</td>\n",
       "      <td>1</td>\n",
       "      <td>0</td>\n",
       "      <td>0</td>\n",
       "      <td>0</td>\n",
       "      <td>0</td>\n",
       "      <td>1</td>\n",
       "      <td>1.021372</td>\n",
       "      <td>-1.306105</td>\n",
       "      <td>-0.417335</td>\n",
       "    </tr>\n",
       "    <tr>\n",
       "      <th>984</th>\n",
       "      <td>1</td>\n",
       "      <td>1</td>\n",
       "      <td>0</td>\n",
       "      <td>0</td>\n",
       "      <td>1</td>\n",
       "      <td>0</td>\n",
       "      <td>1</td>\n",
       "      <td>0.376502</td>\n",
       "      <td>-1.008870</td>\n",
       "      <td>-0.277062</td>\n",
       "    </tr>\n",
       "    <tr>\n",
       "      <th>985</th>\n",
       "      <td>0</td>\n",
       "      <td>0</td>\n",
       "      <td>0</td>\n",
       "      <td>0</td>\n",
       "      <td>1</td>\n",
       "      <td>0</td>\n",
       "      <td>1</td>\n",
       "      <td>-1.486458</td>\n",
       "      <td>-1.008870</td>\n",
       "      <td>-0.136788</td>\n",
       "    </tr>\n",
       "  </tbody>\n",
       "</table>\n",
       "<p>986 rows × 10 columns</p>\n",
       "</div>"
      ],
      "text/plain": [
       "     Diabetes  BloodPressureProblems  AnyTransplants  AnyChronicDiseases  \\\n",
       "0           0                      0               0                   0   \n",
       "1           1                      0               0                   0   \n",
       "2           1                      1               0                   0   \n",
       "3           1                      1               0                   1   \n",
       "4           0                      0               0                   1   \n",
       "..        ...                    ...             ...                 ...   \n",
       "981         0                      0               0                   0   \n",
       "982         1                      1               0                   0   \n",
       "983         0                      1               0                   0   \n",
       "984         1                      1               0                   0   \n",
       "985         0                      0               0                   0   \n",
       "\n",
       "     KnownAllergies  HistoryOfCancerInFamily  NumberOfMajorSurgeries  \\\n",
       "0                 0                        0                       0   \n",
       "1                 0                        0                       0   \n",
       "2                 0                        0                       1   \n",
       "3                 0                        0                       2   \n",
       "4                 0                        0                       1   \n",
       "..              ...                      ...                     ...   \n",
       "981               0                        0                       0   \n",
       "982               0                        0                       3   \n",
       "983               0                        0                       1   \n",
       "984               1                        0                       1   \n",
       "985               1                        0                       1   \n",
       "\n",
       "          Age    Height    Weight  \n",
       "0    0.233197 -1.306105 -1.399250  \n",
       "1    1.307981  1.170852 -0.277062  \n",
       "2   -0.411674 -1.008870 -1.258976  \n",
       "3    0.734763  1.468086  1.125674  \n",
       "4   -0.268369 -0.216244  0.774990  \n",
       "..        ...       ...       ...  \n",
       "981 -1.701415  0.080991 -0.697882  \n",
       "982  1.594590 -1.504261 -0.487472  \n",
       "983  1.021372 -1.306105 -0.417335  \n",
       "984  0.376502 -1.008870 -0.277062  \n",
       "985 -1.486458 -1.008870 -0.136788  \n",
       "\n",
       "[986 rows x 10 columns]"
      ]
     },
     "execution_count": 13,
     "metadata": {},
     "output_type": "execute_result"
    }
   ],
   "source": [
    "X_scaled"
   ]
  },
  {
   "cell_type": "code",
   "execution_count": 14,
   "id": "59730b7d-db96-4dea-bb81-2254684a0505",
   "metadata": {},
   "outputs": [],
   "source": [
    "from sklearn.model_selection import train_test_split"
   ]
  },
  {
   "cell_type": "code",
   "execution_count": 15,
   "id": "ce7c22a8-02e3-4dfd-afa8-fa3fcb2d38b7",
   "metadata": {},
   "outputs": [],
   "source": [
    "X_train, X_test, y_train, y_test = train_test_split(X_scaled, y, test_size=0.2, random_state=42)"
   ]
  },
  {
   "cell_type": "markdown",
   "id": "1fe2431f-13f6-4ac5-9904-20c422564513",
   "metadata": {},
   "source": [
    "# Random Forest"
   ]
  },
  {
   "cell_type": "code",
   "execution_count": 16,
   "id": "08fe5e37-07ef-464d-b3d2-efffbc72d3ca",
   "metadata": {},
   "outputs": [],
   "source": [
    "from sklearn.ensemble import RandomForestRegressor\n",
    "from sklearn.metrics import mean_squared_error\n",
    "from sklearn.model_selection import cross_val_score"
   ]
  },
  {
   "cell_type": "code",
   "execution_count": 76,
   "id": "7353353e-c335-4eba-ad89-e95b4c7de258",
   "metadata": {},
   "outputs": [],
   "source": [
    "forest_reg = RandomForestRegressor()"
   ]
  },
  {
   "cell_type": "code",
   "execution_count": 77,
   "id": "9ed205fd-f3d1-4b35-8513-603f1889a1dc",
   "metadata": {},
   "outputs": [
    {
     "data": {
      "text/html": [
       "<style>#sk-container-id-4 {color: black;}#sk-container-id-4 pre{padding: 0;}#sk-container-id-4 div.sk-toggleable {background-color: white;}#sk-container-id-4 label.sk-toggleable__label {cursor: pointer;display: block;width: 100%;margin-bottom: 0;padding: 0.3em;box-sizing: border-box;text-align: center;}#sk-container-id-4 label.sk-toggleable__label-arrow:before {content: \"▸\";float: left;margin-right: 0.25em;color: #696969;}#sk-container-id-4 label.sk-toggleable__label-arrow:hover:before {color: black;}#sk-container-id-4 div.sk-estimator:hover label.sk-toggleable__label-arrow:before {color: black;}#sk-container-id-4 div.sk-toggleable__content {max-height: 0;max-width: 0;overflow: hidden;text-align: left;background-color: #f0f8ff;}#sk-container-id-4 div.sk-toggleable__content pre {margin: 0.2em;color: black;border-radius: 0.25em;background-color: #f0f8ff;}#sk-container-id-4 input.sk-toggleable__control:checked~div.sk-toggleable__content {max-height: 200px;max-width: 100%;overflow: auto;}#sk-container-id-4 input.sk-toggleable__control:checked~label.sk-toggleable__label-arrow:before {content: \"▾\";}#sk-container-id-4 div.sk-estimator input.sk-toggleable__control:checked~label.sk-toggleable__label {background-color: #d4ebff;}#sk-container-id-4 div.sk-label input.sk-toggleable__control:checked~label.sk-toggleable__label {background-color: #d4ebff;}#sk-container-id-4 input.sk-hidden--visually {border: 0;clip: rect(1px 1px 1px 1px);clip: rect(1px, 1px, 1px, 1px);height: 1px;margin: -1px;overflow: hidden;padding: 0;position: absolute;width: 1px;}#sk-container-id-4 div.sk-estimator {font-family: monospace;background-color: #f0f8ff;border: 1px dotted black;border-radius: 0.25em;box-sizing: border-box;margin-bottom: 0.5em;}#sk-container-id-4 div.sk-estimator:hover {background-color: #d4ebff;}#sk-container-id-4 div.sk-parallel-item::after {content: \"\";width: 100%;border-bottom: 1px solid gray;flex-grow: 1;}#sk-container-id-4 div.sk-label:hover label.sk-toggleable__label {background-color: #d4ebff;}#sk-container-id-4 div.sk-serial::before {content: \"\";position: absolute;border-left: 1px solid gray;box-sizing: border-box;top: 0;bottom: 0;left: 50%;z-index: 0;}#sk-container-id-4 div.sk-serial {display: flex;flex-direction: column;align-items: center;background-color: white;padding-right: 0.2em;padding-left: 0.2em;position: relative;}#sk-container-id-4 div.sk-item {position: relative;z-index: 1;}#sk-container-id-4 div.sk-parallel {display: flex;align-items: stretch;justify-content: center;background-color: white;position: relative;}#sk-container-id-4 div.sk-item::before, #sk-container-id-4 div.sk-parallel-item::before {content: \"\";position: absolute;border-left: 1px solid gray;box-sizing: border-box;top: 0;bottom: 0;left: 50%;z-index: -1;}#sk-container-id-4 div.sk-parallel-item {display: flex;flex-direction: column;z-index: 1;position: relative;background-color: white;}#sk-container-id-4 div.sk-parallel-item:first-child::after {align-self: flex-end;width: 50%;}#sk-container-id-4 div.sk-parallel-item:last-child::after {align-self: flex-start;width: 50%;}#sk-container-id-4 div.sk-parallel-item:only-child::after {width: 0;}#sk-container-id-4 div.sk-dashed-wrapped {border: 1px dashed gray;margin: 0 0.4em 0.5em 0.4em;box-sizing: border-box;padding-bottom: 0.4em;background-color: white;}#sk-container-id-4 div.sk-label label {font-family: monospace;font-weight: bold;display: inline-block;line-height: 1.2em;}#sk-container-id-4 div.sk-label-container {text-align: center;}#sk-container-id-4 div.sk-container {/* jupyter's `normalize.less` sets `[hidden] { display: none; }` but bootstrap.min.css set `[hidden] { display: none !important; }` so we also need the `!important` here to be able to override the default hidden behavior on the sphinx rendered scikit-learn.org. See: https://github.com/scikit-learn/scikit-learn/issues/21755 */display: inline-block !important;position: relative;}#sk-container-id-4 div.sk-text-repr-fallback {display: none;}</style><div id=\"sk-container-id-4\" class=\"sk-top-container\"><div class=\"sk-text-repr-fallback\"><pre>RandomForestRegressor()</pre><b>In a Jupyter environment, please rerun this cell to show the HTML representation or trust the notebook. <br />On GitHub, the HTML representation is unable to render, please try loading this page with nbviewer.org.</b></div><div class=\"sk-container\" hidden><div class=\"sk-item\"><div class=\"sk-estimator sk-toggleable\"><input class=\"sk-toggleable__control sk-hidden--visually\" id=\"sk-estimator-id-6\" type=\"checkbox\" checked><label for=\"sk-estimator-id-6\" class=\"sk-toggleable__label sk-toggleable__label-arrow\">RandomForestRegressor</label><div class=\"sk-toggleable__content\"><pre>RandomForestRegressor()</pre></div></div></div></div></div>"
      ],
      "text/plain": [
       "RandomForestRegressor()"
      ]
     },
     "execution_count": 77,
     "metadata": {},
     "output_type": "execute_result"
    }
   ],
   "source": [
    "forest_reg.fit(X_train, y_train)"
   ]
  },
  {
   "cell_type": "code",
   "execution_count": 78,
   "id": "4d8da746-fc54-4556-aafe-a3c02f090112",
   "metadata": {},
   "outputs": [],
   "source": [
    "pred = forest_reg.predict(X_test)"
   ]
  },
  {
   "cell_type": "code",
   "execution_count": 79,
   "id": "9f5094de-7156-462f-b174-e1b002c7a268",
   "metadata": {},
   "outputs": [
    {
     "data": {
      "text/plain": [
       "2235.2021805373197"
      ]
     },
     "execution_count": 79,
     "metadata": {},
     "output_type": "execute_result"
    }
   ],
   "source": [
    "np.sqrt(mean_squared_error(y_test, pred))"
   ]
  },
  {
   "cell_type": "code",
   "execution_count": 80,
   "id": "6e9c4eb3-3723-4801-a353-c967bcb55490",
   "metadata": {},
   "outputs": [],
   "source": [
    "temp = pd.DataFrame({'Observed':y_test, 'predicted':pred})\n",
    "temp.sort_values('Observed', inplace=True)\n",
    "temp.reset_index(drop=True, inplace=True)"
   ]
  },
  {
   "cell_type": "code",
   "execution_count": 81,
   "id": "29267fd0-6401-4458-a3d0-ba5f12aa2a85",
   "metadata": {},
   "outputs": [
    {
     "data": {
      "text/plain": [
       "[]"
      ]
     },
     "execution_count": 81,
     "metadata": {},
     "output_type": "execute_result"
    },
    {
     "data": {
      "image/png": "[encoded data removed]",
      "text/plain": [
       "<Figure size 640x480 with 1 Axes>"
      ]
     },
     "metadata": {},
     "output_type": "display_data"
    }
   ],
   "source": [
    "sns.lineplot(temp.Observed, label=\"Observed\")\n",
    "sns.lineplot(temp.predicted, label=\"predicted\")\n",
    "plt.xlabel('Data Points')\n",
    "plt.ylabel('Values')\n",
    "plt.title('Predicted vs Real Test Values')\n",
    "plt.plot()"
   ]
  },
  {
   "cell_type": "code",
   "execution_count": 83,
   "id": "950f8438-e6d5-4a36-87a8-edae0e499ce4",
   "metadata": {},
   "outputs": [
    {
     "data": {
      "text/plain": [
       "1138.197825222005"
      ]
     },
     "execution_count": 83,
     "metadata": {},
     "output_type": "execute_result"
    }
   ],
   "source": [
    "pred = forest_reg.predict(X_train)\n",
    "np.sqrt(mean_squared_error(y_train, pred))"
   ]
  },
  {
   "cell_type": "markdown",
   "id": "91738fbf-7659-49f6-b7c6-192150732bd0",
   "metadata": {},
   "source": [
    "## cross validation forest"
   ]
  },
  {
   "cell_type": "code",
   "execution_count": 21,
   "id": "2e000f1f-5180-4f47-b07d-fe712aa29e4f",
   "metadata": {},
   "outputs": [],
   "source": [
    "scores = cross_val_score(forest_reg, X_train, y_train,\n",
    "                         scoring=\"neg_mean_squared_error\", cv=5)"
   ]
  },
  {
   "cell_type": "code",
   "execution_count": 22,
   "id": "f4d04006-ef08-47f3-a018-4c95baff3d1d",
   "metadata": {},
   "outputs": [],
   "source": [
    "forest_rmse_scores = np.sqrt(-scores)"
   ]
  },
  {
   "cell_type": "code",
   "execution_count": 23,
   "id": "562511ed-3bcb-47b1-82db-c818336fd000",
   "metadata": {},
   "outputs": [],
   "source": [
    "def display_scores(scores):\n",
    "    print(\"Scores:\", scores)\n",
    "    print(\"Mean:\", scores.mean())\n",
    "    print(\"Standard deviation:\", scores.std())"
   ]
  },
  {
   "cell_type": "code",
   "execution_count": 24,
   "id": "49b6050e-9177-4710-81fc-5dba43622d9f",
   "metadata": {},
   "outputs": [
    {
     "name": "stdout",
     "output_type": "stream",
     "text": [
      "Scores: [3247.01644942 3268.20645274 3587.60145184 2511.40836475 2550.22466851]\n",
      "Mean: 3032.891477449563\n",
      "Standard deviation: 427.5132003074193\n"
     ]
    }
   ],
   "source": [
    "display_scores(forest_rmse_scores)"
   ]
  },
  {
   "cell_type": "markdown",
   "id": "4e259175-9ced-4275-9209-aa7a550b563a",
   "metadata": {},
   "source": [
    "## hyperparameter forest"
   ]
  },
  {
   "cell_type": "code",
   "execution_count": 27,
   "id": "1413b541-6d0d-41a6-b893-b6a152b9ba04",
   "metadata": {},
   "outputs": [
    {
     "data": {
      "text/plain": [
       "{'bootstrap': True,\n",
       " 'ccp_alpha': 0.0,\n",
       " 'criterion': 'squared_error',\n",
       " 'max_depth': None,\n",
       " 'max_features': 1.0,\n",
       " 'max_leaf_nodes': None,\n",
       " 'max_samples': None,\n",
       " 'min_impurity_decrease': 0.0,\n",
       " 'min_samples_leaf': 1,\n",
       " 'min_samples_split': 2,\n",
       " 'min_weight_fraction_leaf': 0.0,\n",
       " 'n_estimators': 100,\n",
       " 'n_jobs': None,\n",
       " 'oob_score': False,\n",
       " 'random_state': None,\n",
       " 'verbose': 0,\n",
       " 'warm_start': False}"
      ]
     },
     "execution_count": 27,
     "metadata": {},
     "output_type": "execute_result"
    }
   ],
   "source": [
    "forest_reg.get_params()"
   ]
  },
  {
   "cell_type": "code",
   "execution_count": 28,
   "id": "4281f935-b5b3-4f80-af04-811a89b5a153",
   "metadata": {},
   "outputs": [],
   "source": [
    "from sklearn.model_selection import RandomizedSearchCV"
   ]
  },
  {
   "cell_type": "code",
   "execution_count": 29,
   "id": "3c433d56-3f5e-413d-8093-c0144156556d",
   "metadata": {},
   "outputs": [],
   "source": [
    "n_estimators = [int(i) for i in np.linspace(200, 2000, 10)]\n",
    "max_features = ['log2', 'sqrt']\n",
    "max_depth = [int(i) for i in np.linspace(10, 110, 11)]\n",
    "max_depth.append(None)\n",
    "min_sample_split = [2, 5, 10]\n",
    "min_sample_leaf = [1, 2, 4]\n",
    "bootstrap = [True, False]"
   ]
  },
  {
   "cell_type": "code",
   "execution_count": 30,
   "id": "9a73a358-e1af-495a-b129-a263972c6c98",
   "metadata": {},
   "outputs": [
    {
     "data": {
      "text/plain": [
       "{'n_estimators': [200, 400, 600, 800, 1000, 1200, 1400, 1600, 1800, 2000],\n",
       " 'max_features': ['log2', 'sqrt'],\n",
       " 'max_depth': [10, 20, 30, 40, 50, 60, 70, 80, 90, 100, 110, None],\n",
       " 'min_samples_split': [2, 5, 10],\n",
       " 'min_samples_leaf': [1, 2, 4],\n",
       " 'bootstrap': [True, False]}"
      ]
     },
     "execution_count": 30,
     "metadata": {},
     "output_type": "execute_result"
    }
   ],
   "source": [
    "random_grid = {'n_estimators': n_estimators,\n",
    "               'max_features': max_features,\n",
    "               'max_depth': max_depth,\n",
    "               'min_samples_split': min_sample_split,\n",
    "               'min_samples_leaf': min_sample_leaf,\n",
    "               'bootstrap': bootstrap}\n",
    "random_grid"
   ]
  },
  {
   "cell_type": "code",
   "execution_count": 31,
   "id": "c9377de3-132e-40ec-a547-ee93eb25c541",
   "metadata": {},
   "outputs": [],
   "source": [
    "forest_reg = RandomForestRegressor()"
   ]
  },
  {
   "cell_type": "code",
   "execution_count": 32,
   "id": "f8a866a4-045b-47de-9dab-b911ea52398a",
   "metadata": {},
   "outputs": [],
   "source": [
    "forest_rgrid = RandomizedSearchCV(estimator=forest_reg,\n",
    "                                  param_distributions=random_grid,\n",
    "                                  cv=3,\n",
    "                                  verbose=2,\n",
    "                                  random_state=42,\n",
    "                                  n_jobs=-1,\n",
    "                                  scoring='neg_mean_squared_error',\n",
    "                                  return_train_score=True,\n",
    "                                  n_iter=100)"
   ]
  },
  {
   "cell_type": "markdown",
   "id": "74182b78-35d8-4148-90df-e76fbd0351f3",
   "metadata": {},
   "source": [
    "score = forest_rgrid.fit(X_train, y_train)"
   ]
  },
  {
   "cell_type": "markdown",
   "id": "48314366-36b3-444a-83c0-339b3c287b18",
   "metadata": {},
   "source": [
    "#### saving"
   ]
  },
  {
   "cell_type": "code",
   "execution_count": 33,
   "id": "9b9fb2ad-1ba2-47a1-8873-ba52231f9491",
   "metadata": {},
   "outputs": [],
   "source": [
    "import joblib"
   ]
  },
  {
   "cell_type": "markdown",
   "id": "4f27a611-a713-46af-bb35-e2300e1bf9c8",
   "metadata": {},
   "source": [
    "joblib.dump(score, \"forest1.pkl\")"
   ]
  },
  {
   "cell_type": "code",
   "execution_count": 34,
   "id": "7a42bf0a-01b6-4388-a755-58e7b726cb46",
   "metadata": {},
   "outputs": [],
   "source": [
    "score = joblib.load(\"forest1.pkl\")"
   ]
  },
  {
   "cell_type": "code",
   "execution_count": 56,
   "id": "59a73641-7775-45c1-af68-b710df3af022",
   "metadata": {},
   "outputs": [],
   "source": [
    "cvres = score.cv_results_"
   ]
  },
  {
   "cell_type": "code",
   "execution_count": 57,
   "id": "ada08b7e-c16c-4d0f-8118-aa958fc59a4c",
   "metadata": {},
   "outputs": [
    {
     "data": {
      "text/html": [
       "<div>\n",
       "<style scoped>\n",
       "    .dataframe tbody tr th:only-of-type {\n",
       "        vertical-align: middle;\n",
       "    }\n",
       "\n",
       "    .dataframe tbody tr th {\n",
       "        vertical-align: top;\n",
       "    }\n",
       "\n",
       "    .dataframe thead th {\n",
       "        text-align: right;\n",
       "    }\n",
       "</style>\n",
       "<table border=\"1\" class=\"dataframe\">\n",
       "  <thead>\n",
       "    <tr style=\"text-align: right;\">\n",
       "      <th></th>\n",
       "      <th>n_estimators</th>\n",
       "      <th>min_samples_split</th>\n",
       "      <th>min_samples_leaf</th>\n",
       "      <th>max_features</th>\n",
       "      <th>max_depth</th>\n",
       "      <th>bootstrap</th>\n",
       "      <th>rmse</th>\n",
       "    </tr>\n",
       "  </thead>\n",
       "  <tbody>\n",
       "    <tr>\n",
       "      <th>7</th>\n",
       "      <td>600</td>\n",
       "      <td>5</td>\n",
       "      <td>1</td>\n",
       "      <td>sqrt</td>\n",
       "      <td>60.0</td>\n",
       "      <td>False</td>\n",
       "      <td>3145.051387</td>\n",
       "    </tr>\n",
       "    <tr>\n",
       "      <th>24</th>\n",
       "      <td>1400</td>\n",
       "      <td>5</td>\n",
       "      <td>1</td>\n",
       "      <td>sqrt</td>\n",
       "      <td>80.0</td>\n",
       "      <td>False</td>\n",
       "      <td>3148.069194</td>\n",
       "    </tr>\n",
       "    <tr>\n",
       "      <th>21</th>\n",
       "      <td>1600</td>\n",
       "      <td>5</td>\n",
       "      <td>1</td>\n",
       "      <td>sqrt</td>\n",
       "      <td>70.0</td>\n",
       "      <td>False</td>\n",
       "      <td>3150.499203</td>\n",
       "    </tr>\n",
       "    <tr>\n",
       "      <th>32</th>\n",
       "      <td>800</td>\n",
       "      <td>5</td>\n",
       "      <td>1</td>\n",
       "      <td>sqrt</td>\n",
       "      <td>100.0</td>\n",
       "      <td>False</td>\n",
       "      <td>3155.334227</td>\n",
       "    </tr>\n",
       "    <tr>\n",
       "      <th>11</th>\n",
       "      <td>800</td>\n",
       "      <td>5</td>\n",
       "      <td>1</td>\n",
       "      <td>sqrt</td>\n",
       "      <td>90.0</td>\n",
       "      <td>False</td>\n",
       "      <td>3157.626644</td>\n",
       "    </tr>\n",
       "    <tr>\n",
       "      <th>20</th>\n",
       "      <td>1800</td>\n",
       "      <td>10</td>\n",
       "      <td>1</td>\n",
       "      <td>sqrt</td>\n",
       "      <td>30.0</td>\n",
       "      <td>False</td>\n",
       "      <td>3161.234199</td>\n",
       "    </tr>\n",
       "    <tr>\n",
       "      <th>73</th>\n",
       "      <td>400</td>\n",
       "      <td>5</td>\n",
       "      <td>1</td>\n",
       "      <td>log2</td>\n",
       "      <td>90.0</td>\n",
       "      <td>False</td>\n",
       "      <td>3163.198137</td>\n",
       "    </tr>\n",
       "    <tr>\n",
       "      <th>85</th>\n",
       "      <td>600</td>\n",
       "      <td>10</td>\n",
       "      <td>1</td>\n",
       "      <td>sqrt</td>\n",
       "      <td>40.0</td>\n",
       "      <td>False</td>\n",
       "      <td>3164.400386</td>\n",
       "    </tr>\n",
       "    <tr>\n",
       "      <th>68</th>\n",
       "      <td>1000</td>\n",
       "      <td>10</td>\n",
       "      <td>1</td>\n",
       "      <td>sqrt</td>\n",
       "      <td>80.0</td>\n",
       "      <td>False</td>\n",
       "      <td>3166.888603</td>\n",
       "    </tr>\n",
       "    <tr>\n",
       "      <th>16</th>\n",
       "      <td>600</td>\n",
       "      <td>5</td>\n",
       "      <td>2</td>\n",
       "      <td>log2</td>\n",
       "      <td>70.0</td>\n",
       "      <td>False</td>\n",
       "      <td>3168.495348</td>\n",
       "    </tr>\n",
       "    <tr>\n",
       "      <th>6</th>\n",
       "      <td>1000</td>\n",
       "      <td>5</td>\n",
       "      <td>2</td>\n",
       "      <td>sqrt</td>\n",
       "      <td>100.0</td>\n",
       "      <td>False</td>\n",
       "      <td>3174.819542</td>\n",
       "    </tr>\n",
       "    <tr>\n",
       "      <th>54</th>\n",
       "      <td>1400</td>\n",
       "      <td>5</td>\n",
       "      <td>2</td>\n",
       "      <td>sqrt</td>\n",
       "      <td>NaN</td>\n",
       "      <td>False</td>\n",
       "      <td>3178.289286</td>\n",
       "    </tr>\n",
       "    <tr>\n",
       "      <th>49</th>\n",
       "      <td>600</td>\n",
       "      <td>2</td>\n",
       "      <td>2</td>\n",
       "      <td>sqrt</td>\n",
       "      <td>110.0</td>\n",
       "      <td>False</td>\n",
       "      <td>3180.340172</td>\n",
       "    </tr>\n",
       "    <tr>\n",
       "      <th>12</th>\n",
       "      <td>2000</td>\n",
       "      <td>10</td>\n",
       "      <td>1</td>\n",
       "      <td>sqrt</td>\n",
       "      <td>10.0</td>\n",
       "      <td>False</td>\n",
       "      <td>3181.235071</td>\n",
       "    </tr>\n",
       "    <tr>\n",
       "      <th>31</th>\n",
       "      <td>800</td>\n",
       "      <td>2</td>\n",
       "      <td>2</td>\n",
       "      <td>sqrt</td>\n",
       "      <td>50.0</td>\n",
       "      <td>False</td>\n",
       "      <td>3184.301191</td>\n",
       "    </tr>\n",
       "    <tr>\n",
       "      <th>14</th>\n",
       "      <td>800</td>\n",
       "      <td>10</td>\n",
       "      <td>2</td>\n",
       "      <td>sqrt</td>\n",
       "      <td>30.0</td>\n",
       "      <td>False</td>\n",
       "      <td>3194.395172</td>\n",
       "    </tr>\n",
       "    <tr>\n",
       "      <th>83</th>\n",
       "      <td>800</td>\n",
       "      <td>10</td>\n",
       "      <td>2</td>\n",
       "      <td>log2</td>\n",
       "      <td>NaN</td>\n",
       "      <td>False</td>\n",
       "      <td>3195.513854</td>\n",
       "    </tr>\n",
       "    <tr>\n",
       "      <th>63</th>\n",
       "      <td>1200</td>\n",
       "      <td>10</td>\n",
       "      <td>2</td>\n",
       "      <td>log2</td>\n",
       "      <td>NaN</td>\n",
       "      <td>False</td>\n",
       "      <td>3195.901978</td>\n",
       "    </tr>\n",
       "    <tr>\n",
       "      <th>2</th>\n",
       "      <td>1200</td>\n",
       "      <td>5</td>\n",
       "      <td>2</td>\n",
       "      <td>sqrt</td>\n",
       "      <td>10.0</td>\n",
       "      <td>False</td>\n",
       "      <td>3196.832300</td>\n",
       "    </tr>\n",
       "    <tr>\n",
       "      <th>51</th>\n",
       "      <td>2000</td>\n",
       "      <td>10</td>\n",
       "      <td>2</td>\n",
       "      <td>log2</td>\n",
       "      <td>50.0</td>\n",
       "      <td>False</td>\n",
       "      <td>3197.189673</td>\n",
       "    </tr>\n",
       "  </tbody>\n",
       "</table>\n",
       "</div>"
      ],
      "text/plain": [
       "    n_estimators  min_samples_split  min_samples_leaf max_features  max_depth  \\\n",
       "7            600                  5                 1         sqrt       60.0   \n",
       "24          1400                  5                 1         sqrt       80.0   \n",
       "21          1600                  5                 1         sqrt       70.0   \n",
       "32           800                  5                 1         sqrt      100.0   \n",
       "11           800                  5                 1         sqrt       90.0   \n",
       "20          1800                 10                 1         sqrt       30.0   \n",
       "73           400                  5                 1         log2       90.0   \n",
       "85           600                 10                 1         sqrt       40.0   \n",
       "68          1000                 10                 1         sqrt       80.0   \n",
       "16           600                  5                 2         log2       70.0   \n",
       "6           1000                  5                 2         sqrt      100.0   \n",
       "54          1400                  5                 2         sqrt        NaN   \n",
       "49           600                  2                 2         sqrt      110.0   \n",
       "12          2000                 10                 1         sqrt       10.0   \n",
       "31           800                  2                 2         sqrt       50.0   \n",
       "14           800                 10                 2         sqrt       30.0   \n",
       "83           800                 10                 2         log2        NaN   \n",
       "63          1200                 10                 2         log2        NaN   \n",
       "2           1200                  5                 2         sqrt       10.0   \n",
       "51          2000                 10                 2         log2       50.0   \n",
       "\n",
       "    bootstrap         rmse  \n",
       "7       False  3145.051387  \n",
       "24      False  3148.069194  \n",
       "21      False  3150.499203  \n",
       "32      False  3155.334227  \n",
       "11      False  3157.626644  \n",
       "20      False  3161.234199  \n",
       "73      False  3163.198137  \n",
       "85      False  3164.400386  \n",
       "68      False  3166.888603  \n",
       "16      False  3168.495348  \n",
       "6       False  3174.819542  \n",
       "54      False  3178.289286  \n",
       "49      False  3180.340172  \n",
       "12      False  3181.235071  \n",
       "31      False  3184.301191  \n",
       "14      False  3194.395172  \n",
       "83      False  3195.513854  \n",
       "63      False  3195.901978  \n",
       "2       False  3196.832300  \n",
       "51      False  3197.189673  "
      ]
     },
     "execution_count": 57,
     "metadata": {},
     "output_type": "execute_result"
    }
   ],
   "source": [
    "temp = pd.DataFrame(cvres['params'])\n",
    "temp[\"rmse\"] = np.sqrt(-cvres[\"mean_test_score\"])\n",
    "temp.sort_values(\"rmse\").head(20)"
   ]
  },
  {
   "cell_type": "code",
   "execution_count": 66,
   "id": "2f2765fb-7294-4aaf-91c4-8a83d4c5797b",
   "metadata": {},
   "outputs": [],
   "source": [
    "best_forest_rgrid = score.best_estimator_"
   ]
  },
  {
   "cell_type": "code",
   "execution_count": 69,
   "id": "5fa0ffc9-f166-48e2-8eb1-cc334ab4109b",
   "metadata": {},
   "outputs": [],
   "source": [
    "pred = best_forest_rgrid.predict(X_test)"
   ]
  },
  {
   "cell_type": "code",
   "execution_count": 71,
   "id": "996ef564-d852-4c04-a6fc-faf63bcdfbe1",
   "metadata": {},
   "outputs": [
    {
     "data": {
      "text/plain": [
       "2455.9795604375017"
      ]
     },
     "execution_count": 71,
     "metadata": {},
     "output_type": "execute_result"
    }
   ],
   "source": [
    "np.sqrt(mean_squared_error(y_test, pred))"
   ]
  },
  {
   "cell_type": "code",
   "execution_count": 73,
   "id": "681b80d7-16b8-423f-842d-8bab48c7002f",
   "metadata": {},
   "outputs": [
    {
     "data": {
      "text/plain": [
       "[]"
      ]
     },
     "execution_count": 73,
     "metadata": {},
     "output_type": "execute_result"
    },
    {
     "data": {
      "image/png": "[encoded data removed]",
      "text/plain": [
       "<Figure size 640x480 with 1 Axes>"
      ]
     },
     "metadata": {},
     "output_type": "display_data"
    }
   ],
   "source": [
    "temp = pd.DataFrame({'Observed':y_test, 'predicted':pred})\n",
    "temp.sort_values('Observed', inplace=True)\n",
    "temp.reset_index(drop=True, inplace=True)\n",
    "\n",
    "sns.lineplot(temp.Observed, label=\"Observed\")\n",
    "sns.lineplot(temp.predicted, label=\"predicted\")\n",
    "plt.xlabel('Data Points')\n",
    "plt.ylabel('Values')\n",
    "plt.title('Predicted vs Real Test Values')\n",
    "plt.plot()"
   ]
  },
  {
   "cell_type": "code",
   "execution_count": 75,
   "id": "947f53b1-2d6f-47c7-af2d-960d390cd092",
   "metadata": {},
   "outputs": [
    {
     "data": {
      "text/plain": [
       "1124.3321013474156"
      ]
     },
     "execution_count": 75,
     "metadata": {},
     "output_type": "execute_result"
    }
   ],
   "source": [
    "pred = best_forest_rgrid.predict(X_train)\n",
    "np.sqrt(mean_squared_error(y_train, pred))"
   ]
  },
  {
   "cell_type": "code",
   "execution_count": null,
   "id": "7992d0de-8e7a-46c4-a4ff-25c0d1027528",
   "metadata": {},
   "outputs": [],
   "source": []
  }
 ],
 "metadata": {
  "kernelspec": {
   "display_name": "Python 3 (ipykernel)",
   "language": "python",
   "name": "python3"
  },
  "language_info": {
   "codemirror_mode": {
    "name": "ipython",
    "version": 3
   },
   "file_extension": ".py",
   "mimetype": "text/x-python",
   "name": "python",
   "nbconvert_exporter": "python",
   "pygments_lexer": "ipython3",
   "version": "3.10.13"
  }
 },
 "nbformat": 4,
 "nbformat_minor": 5
}
